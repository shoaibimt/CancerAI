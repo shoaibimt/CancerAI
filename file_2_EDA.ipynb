{
  "nbformat": 4,
  "nbformat_minor": 0,
  "metadata": {
    "colab": {
      "provenance": [],
      "authorship_tag": "ABX9TyNKYVib2UqprvpxWlLFmDMV",
      "include_colab_link": true
    },
    "kernelspec": {
      "name": "python3",
      "display_name": "Python 3"
    },
    "language_info": {
      "name": "python"
    }
  },
  "cells": [
    {
      "cell_type": "markdown",
      "metadata": {
        "id": "view-in-github",
        "colab_type": "text"
      },
      "source": [
        "<a href=\"https://colab.research.google.com/github/shoaibimt/CancerAI/blob/main/file_2_EDA.ipynb\" target=\"_parent\"><img src=\"https://colab.research.google.com/assets/colab-badge.svg\" alt=\"Open In Colab\"/></a>"
      ]
    },
    {
      "cell_type": "code",
      "execution_count": null,
      "metadata": {
        "id": "AwXZDNUrjR9C",
        "colab": {
          "base_uri": "https://localhost:8080/"
        },
        "outputId": "3e07773a-1d00-48c1-f2a2-28642b4c2a04"
      },
      "outputs": [
        {
          "output_type": "stream",
          "name": "stdout",
          "text": [
            "--2022-12-20 11:19:34--  https://repo.anaconda.com/miniconda/Miniconda3-py37_4.8.2-Linux-x86_64.sh\n",
            "Resolving repo.anaconda.com (repo.anaconda.com)... 104.16.131.3, 104.16.130.3, 2606:4700::6810:8203, ...\n",
            "Connecting to repo.anaconda.com (repo.anaconda.com)|104.16.131.3|:443... connected.\n",
            "HTTP request sent, awaiting response... 200 OK\n",
            "Length: 85055499 (81M) [application/x-sh]\n",
            "Saving to: ‘Miniconda3-py37_4.8.2-Linux-x86_64.sh.1’\n",
            "\n",
            "Miniconda3-py37_4.8 100%[===================>]  81.12M   120MB/s    in 0.7s    \n",
            "\n",
            "2022-12-20 11:19:35 (120 MB/s) - ‘Miniconda3-py37_4.8.2-Linux-x86_64.sh.1’ saved [85055499/85055499]\n",
            "\n",
            "PREFIX=/usr/local\n",
            "Unpacking payload ...\n",
            "Collecting package metadata (current_repodata.json): - \b\b\\ \b\bdone\n",
            "Solving environment: / \b\b- \b\b\\ \b\bdone\n",
            "\n",
            "# All requested packages already installed.\n",
            "\n",
            "installation finished.\n",
            "WARNING:\n",
            "    You currently have a PYTHONPATH environment variable set. This may cause\n",
            "    unexpected behavior when running the Python interpreter in Miniconda3.\n",
            "    For best results, please verify that your PYTHONPATH only points to\n",
            "    directories of packages that are compatible with the Python interpreter\n",
            "    in Miniconda3: /usr/local\n"
          ]
        }
      ],
      "source": [
        "! wget https://repo.anaconda.com/miniconda/Miniconda3-py37_4.8.2-Linux-x86_64.sh\n",
        "! chmod +x Miniconda3-py37_4.8.2-Linux-x86_64.sh\n",
        "! bash ./Miniconda3-py37_4.8.2-Linux-x86_64.sh -b -f -p /usr/local\n",
        "import sys\n",
        "sys.path.append('/usr/local/lib/python3.7/site-packages/')"
      ]
    },
    {
      "cell_type": "code",
      "source": [
        "import pandas as pd\n",
        "import numpy as np\n",
        "import matplotlib.pyplot as plt\n",
        "from matplotlib import rcParams\n",
        "import seaborn as sns\n",
        "from scipy.stats import mannwhitneyu\n",
        "plt.style.use(\"ggplot\")\n",
        "rcParams['figure.figsize'] = (12,  6)"
      ],
      "metadata": {
        "id": "DHS7b9GrjmS0"
      },
      "execution_count": null,
      "outputs": []
    },
    {
      "cell_type": "code",
      "source": [
        "from google.colab import drive\n",
        "drive.mount('/content/drive', force_remount=True)"
      ],
      "metadata": {
        "colab": {
          "base_uri": "https://localhost:8080/"
        },
        "id": "G2Qpo6dMj6bW",
        "outputId": "8405015f-1cc4-41cb-e5d3-8d650d150291"
      },
      "execution_count": null,
      "outputs": [
        {
          "output_type": "stream",
          "name": "stdout",
          "text": [
            "Mounted at /content/drive\n"
          ]
        }
      ]
    },
    {
      "cell_type": "code",
      "source": [
        "path = ('/content/drive/MyDrive/inhibitor_prediction/bcr_abl/chembl_data_retrieve/bcr_abl_bioactivity_data_raw.csv')"
      ],
      "metadata": {
        "id": "WB0YXP5djwLm"
      },
      "execution_count": null,
      "outputs": []
    },
    {
      "cell_type": "code",
      "source": [
        "df_raw =pd.read_csv(path)"
      ],
      "metadata": {
        "id": "Hvj12epCkGpf"
      },
      "execution_count": null,
      "outputs": []
    },
    {
      "cell_type": "code",
      "source": [
        "df_raw"
      ],
      "metadata": {
        "colab": {
          "base_uri": "https://localhost:8080/",
          "height": 835
        },
        "id": "Jl2dyhEtkJ4d",
        "outputId": "ce839c28-de42-45f6-e81d-fbc3d3ca856d"
      },
      "execution_count": null,
      "outputs": [
        {
          "output_type": "execute_result",
          "data": {
            "text/plain": [
              "    activity_comment  activity_id  \\\n",
              "0                NaN      1675266   \n",
              "1     Not Determined      1675350   \n",
              "2                NaN      1675351   \n",
              "3                NaN      1675352   \n",
              "4                NaN      1675353   \n",
              "..               ...          ...   \n",
              "678              NaN     22989344   \n",
              "679              NaN     22989345   \n",
              "680              NaN     22989346   \n",
              "681              NaN     22989347   \n",
              "682              NaN     22989348   \n",
              "\n",
              "                                   activity_properties assay_chembl_id  \\\n",
              "0                                                   []    CHEMBL867071   \n",
              "1                                                   []    CHEMBL867071   \n",
              "2                                                   []    CHEMBL867071   \n",
              "3                                                   []    CHEMBL867071   \n",
              "4                                                   []    CHEMBL867071   \n",
              "..                                                 ...             ...   \n",
              "678  [{'comments': None, 'relation': '=', 'result_f...   CHEMBL4774928   \n",
              "679  [{'comments': None, 'relation': '=', 'result_f...   CHEMBL4774928   \n",
              "680  [{'comments': None, 'relation': '=', 'result_f...   CHEMBL4774928   \n",
              "681  [{'comments': None, 'relation': '=', 'result_f...   CHEMBL4774928   \n",
              "682  [{'comments': None, 'relation': '=', 'result_f...   CHEMBL4774928   \n",
              "\n",
              "                                     assay_description assay_type  \\\n",
              "0    Antiproliferative activity against human BCR-A...          F   \n",
              "1    Antiproliferative activity against human BCR-A...          F   \n",
              "2    Antiproliferative activity against human BCR-A...          F   \n",
              "3    Antiproliferative activity against human BCR-A...          F   \n",
              "4    Antiproliferative activity against human BCR-A...          F   \n",
              "..                                                 ...        ...   \n",
              "678  Inhibition of BCR-ABL T315I mutant (unknown or...          B   \n",
              "679  Inhibition of BCR-ABL T315I mutant (unknown or...          B   \n",
              "680  Inhibition of BCR-ABL T315I mutant (unknown or...          B   \n",
              "681  Inhibition of BCR-ABL T315I mutant (unknown or...          B   \n",
              "682  Inhibition of BCR-ABL T315I mutant (unknown or...          B   \n",
              "\n",
              "    assay_variant_accession assay_variant_mutation bao_endpoint   bao_format  \\\n",
              "0                       NaN                    NaN  BAO_0000190  BAO_0000219   \n",
              "1                       NaN                    NaN  BAO_0000190  BAO_0000219   \n",
              "2                       NaN                    NaN  BAO_0000190  BAO_0000219   \n",
              "3                       NaN                    NaN  BAO_0000190  BAO_0000219   \n",
              "4                       NaN                    NaN  BAO_0000190  BAO_0000219   \n",
              "..                      ...                    ...          ...          ...   \n",
              "678                  P00519                  T315I  BAO_0000179  BAO_0000224   \n",
              "679                  P00519                  T315I  BAO_0000179  BAO_0000224   \n",
              "680                  P00519                  T315I  BAO_0000179  BAO_0000224   \n",
              "681                  P00519                  T315I  BAO_0000179  BAO_0000224   \n",
              "682                  P00519                  T315I  BAO_0000179  BAO_0000224   \n",
              "\n",
              "     ... target_organism        target_pref_name target_tax_id text_value  \\\n",
              "0    ...    Homo sapiens  Bcr/Abl fusion protein          9606        NaN   \n",
              "1    ...    Homo sapiens  Bcr/Abl fusion protein          9606        NaN   \n",
              "2    ...    Homo sapiens  Bcr/Abl fusion protein          9606        NaN   \n",
              "3    ...    Homo sapiens  Bcr/Abl fusion protein          9606        NaN   \n",
              "4    ...    Homo sapiens  Bcr/Abl fusion protein          9606        NaN   \n",
              "..   ...             ...                     ...           ...        ...   \n",
              "678  ...    Homo sapiens  Bcr/Abl fusion protein          9606        NaN   \n",
              "679  ...    Homo sapiens  Bcr/Abl fusion protein          9606        NaN   \n",
              "680  ...    Homo sapiens  Bcr/Abl fusion protein          9606        NaN   \n",
              "681  ...    Homo sapiens  Bcr/Abl fusion protein          9606        NaN   \n",
              "682  ...    Homo sapiens  Bcr/Abl fusion protein          9606        NaN   \n",
              "\n",
              "    toid  type  units    uo_units upper_value     value  \n",
              "0    NaN  IC50     uM  UO_0000065         NaN    9.5000  \n",
              "1    NaN  IC50    NaN         NaN         NaN       NaN  \n",
              "2    NaN  IC50     uM  UO_0000065         NaN   14.6000  \n",
              "3    NaN  IC50     uM  UO_0000065         NaN   12.9000  \n",
              "4    NaN  IC50     uM  UO_0000065         NaN    3.8000  \n",
              "..   ...   ...    ...         ...         ...       ...  \n",
              "678  NaN  IC50     uM         NaN         NaN    2.5100  \n",
              "679  NaN  IC50     uM         NaN         NaN    1.4200  \n",
              "680  NaN  IC50     uM         NaN         NaN    1.6050  \n",
              "681  NaN  IC50     uM         NaN         NaN  100.0000  \n",
              "682  NaN  IC50     uM         NaN         NaN    0.0557  \n",
              "\n",
              "[683 rows x 45 columns]"
            ],
            "text/html": [
              "\n",
              "  <div id=\"df-45a86267-6a79-405e-a99e-ff826d8777a1\">\n",
              "    <div class=\"colab-df-container\">\n",
              "      <div>\n",
              "<style scoped>\n",
              "    .dataframe tbody tr th:only-of-type {\n",
              "        vertical-align: middle;\n",
              "    }\n",
              "\n",
              "    .dataframe tbody tr th {\n",
              "        vertical-align: top;\n",
              "    }\n",
              "\n",
              "    .dataframe thead th {\n",
              "        text-align: right;\n",
              "    }\n",
              "</style>\n",
              "<table border=\"1\" class=\"dataframe\">\n",
              "  <thead>\n",
              "    <tr style=\"text-align: right;\">\n",
              "      <th></th>\n",
              "      <th>activity_comment</th>\n",
              "      <th>activity_id</th>\n",
              "      <th>activity_properties</th>\n",
              "      <th>assay_chembl_id</th>\n",
              "      <th>assay_description</th>\n",
              "      <th>assay_type</th>\n",
              "      <th>assay_variant_accession</th>\n",
              "      <th>assay_variant_mutation</th>\n",
              "      <th>bao_endpoint</th>\n",
              "      <th>bao_format</th>\n",
              "      <th>...</th>\n",
              "      <th>target_organism</th>\n",
              "      <th>target_pref_name</th>\n",
              "      <th>target_tax_id</th>\n",
              "      <th>text_value</th>\n",
              "      <th>toid</th>\n",
              "      <th>type</th>\n",
              "      <th>units</th>\n",
              "      <th>uo_units</th>\n",
              "      <th>upper_value</th>\n",
              "      <th>value</th>\n",
              "    </tr>\n",
              "  </thead>\n",
              "  <tbody>\n",
              "    <tr>\n",
              "      <th>0</th>\n",
              "      <td>NaN</td>\n",
              "      <td>1675266</td>\n",
              "      <td>[]</td>\n",
              "      <td>CHEMBL867071</td>\n",
              "      <td>Antiproliferative activity against human BCR-A...</td>\n",
              "      <td>F</td>\n",
              "      <td>NaN</td>\n",
              "      <td>NaN</td>\n",
              "      <td>BAO_0000190</td>\n",
              "      <td>BAO_0000219</td>\n",
              "      <td>...</td>\n",
              "      <td>Homo sapiens</td>\n",
              "      <td>Bcr/Abl fusion protein</td>\n",
              "      <td>9606</td>\n",
              "      <td>NaN</td>\n",
              "      <td>NaN</td>\n",
              "      <td>IC50</td>\n",
              "      <td>uM</td>\n",
              "      <td>UO_0000065</td>\n",
              "      <td>NaN</td>\n",
              "      <td>9.5000</td>\n",
              "    </tr>\n",
              "    <tr>\n",
              "      <th>1</th>\n",
              "      <td>Not Determined</td>\n",
              "      <td>1675350</td>\n",
              "      <td>[]</td>\n",
              "      <td>CHEMBL867071</td>\n",
              "      <td>Antiproliferative activity against human BCR-A...</td>\n",
              "      <td>F</td>\n",
              "      <td>NaN</td>\n",
              "      <td>NaN</td>\n",
              "      <td>BAO_0000190</td>\n",
              "      <td>BAO_0000219</td>\n",
              "      <td>...</td>\n",
              "      <td>Homo sapiens</td>\n",
              "      <td>Bcr/Abl fusion protein</td>\n",
              "      <td>9606</td>\n",
              "      <td>NaN</td>\n",
              "      <td>NaN</td>\n",
              "      <td>IC50</td>\n",
              "      <td>NaN</td>\n",
              "      <td>NaN</td>\n",
              "      <td>NaN</td>\n",
              "      <td>NaN</td>\n",
              "    </tr>\n",
              "    <tr>\n",
              "      <th>2</th>\n",
              "      <td>NaN</td>\n",
              "      <td>1675351</td>\n",
              "      <td>[]</td>\n",
              "      <td>CHEMBL867071</td>\n",
              "      <td>Antiproliferative activity against human BCR-A...</td>\n",
              "      <td>F</td>\n",
              "      <td>NaN</td>\n",
              "      <td>NaN</td>\n",
              "      <td>BAO_0000190</td>\n",
              "      <td>BAO_0000219</td>\n",
              "      <td>...</td>\n",
              "      <td>Homo sapiens</td>\n",
              "      <td>Bcr/Abl fusion protein</td>\n",
              "      <td>9606</td>\n",
              "      <td>NaN</td>\n",
              "      <td>NaN</td>\n",
              "      <td>IC50</td>\n",
              "      <td>uM</td>\n",
              "      <td>UO_0000065</td>\n",
              "      <td>NaN</td>\n",
              "      <td>14.6000</td>\n",
              "    </tr>\n",
              "    <tr>\n",
              "      <th>3</th>\n",
              "      <td>NaN</td>\n",
              "      <td>1675352</td>\n",
              "      <td>[]</td>\n",
              "      <td>CHEMBL867071</td>\n",
              "      <td>Antiproliferative activity against human BCR-A...</td>\n",
              "      <td>F</td>\n",
              "      <td>NaN</td>\n",
              "      <td>NaN</td>\n",
              "      <td>BAO_0000190</td>\n",
              "      <td>BAO_0000219</td>\n",
              "      <td>...</td>\n",
              "      <td>Homo sapiens</td>\n",
              "      <td>Bcr/Abl fusion protein</td>\n",
              "      <td>9606</td>\n",
              "      <td>NaN</td>\n",
              "      <td>NaN</td>\n",
              "      <td>IC50</td>\n",
              "      <td>uM</td>\n",
              "      <td>UO_0000065</td>\n",
              "      <td>NaN</td>\n",
              "      <td>12.9000</td>\n",
              "    </tr>\n",
              "    <tr>\n",
              "      <th>4</th>\n",
              "      <td>NaN</td>\n",
              "      <td>1675353</td>\n",
              "      <td>[]</td>\n",
              "      <td>CHEMBL867071</td>\n",
              "      <td>Antiproliferative activity against human BCR-A...</td>\n",
              "      <td>F</td>\n",
              "      <td>NaN</td>\n",
              "      <td>NaN</td>\n",
              "      <td>BAO_0000190</td>\n",
              "      <td>BAO_0000219</td>\n",
              "      <td>...</td>\n",
              "      <td>Homo sapiens</td>\n",
              "      <td>Bcr/Abl fusion protein</td>\n",
              "      <td>9606</td>\n",
              "      <td>NaN</td>\n",
              "      <td>NaN</td>\n",
              "      <td>IC50</td>\n",
              "      <td>uM</td>\n",
              "      <td>UO_0000065</td>\n",
              "      <td>NaN</td>\n",
              "      <td>3.8000</td>\n",
              "    </tr>\n",
              "    <tr>\n",
              "      <th>...</th>\n",
              "      <td>...</td>\n",
              "      <td>...</td>\n",
              "      <td>...</td>\n",
              "      <td>...</td>\n",
              "      <td>...</td>\n",
              "      <td>...</td>\n",
              "      <td>...</td>\n",
              "      <td>...</td>\n",
              "      <td>...</td>\n",
              "      <td>...</td>\n",
              "      <td>...</td>\n",
              "      <td>...</td>\n",
              "      <td>...</td>\n",
              "      <td>...</td>\n",
              "      <td>...</td>\n",
              "      <td>...</td>\n",
              "      <td>...</td>\n",
              "      <td>...</td>\n",
              "      <td>...</td>\n",
              "      <td>...</td>\n",
              "      <td>...</td>\n",
              "    </tr>\n",
              "    <tr>\n",
              "      <th>678</th>\n",
              "      <td>NaN</td>\n",
              "      <td>22989344</td>\n",
              "      <td>[{'comments': None, 'relation': '=', 'result_f...</td>\n",
              "      <td>CHEMBL4774928</td>\n",
              "      <td>Inhibition of BCR-ABL T315I mutant (unknown or...</td>\n",
              "      <td>B</td>\n",
              "      <td>P00519</td>\n",
              "      <td>T315I</td>\n",
              "      <td>BAO_0000179</td>\n",
              "      <td>BAO_0000224</td>\n",
              "      <td>...</td>\n",
              "      <td>Homo sapiens</td>\n",
              "      <td>Bcr/Abl fusion protein</td>\n",
              "      <td>9606</td>\n",
              "      <td>NaN</td>\n",
              "      <td>NaN</td>\n",
              "      <td>IC50</td>\n",
              "      <td>uM</td>\n",
              "      <td>NaN</td>\n",
              "      <td>NaN</td>\n",
              "      <td>2.5100</td>\n",
              "    </tr>\n",
              "    <tr>\n",
              "      <th>679</th>\n",
              "      <td>NaN</td>\n",
              "      <td>22989345</td>\n",
              "      <td>[{'comments': None, 'relation': '=', 'result_f...</td>\n",
              "      <td>CHEMBL4774928</td>\n",
              "      <td>Inhibition of BCR-ABL T315I mutant (unknown or...</td>\n",
              "      <td>B</td>\n",
              "      <td>P00519</td>\n",
              "      <td>T315I</td>\n",
              "      <td>BAO_0000179</td>\n",
              "      <td>BAO_0000224</td>\n",
              "      <td>...</td>\n",
              "      <td>Homo sapiens</td>\n",
              "      <td>Bcr/Abl fusion protein</td>\n",
              "      <td>9606</td>\n",
              "      <td>NaN</td>\n",
              "      <td>NaN</td>\n",
              "      <td>IC50</td>\n",
              "      <td>uM</td>\n",
              "      <td>NaN</td>\n",
              "      <td>NaN</td>\n",
              "      <td>1.4200</td>\n",
              "    </tr>\n",
              "    <tr>\n",
              "      <th>680</th>\n",
              "      <td>NaN</td>\n",
              "      <td>22989346</td>\n",
              "      <td>[{'comments': None, 'relation': '=', 'result_f...</td>\n",
              "      <td>CHEMBL4774928</td>\n",
              "      <td>Inhibition of BCR-ABL T315I mutant (unknown or...</td>\n",
              "      <td>B</td>\n",
              "      <td>P00519</td>\n",
              "      <td>T315I</td>\n",
              "      <td>BAO_0000179</td>\n",
              "      <td>BAO_0000224</td>\n",
              "      <td>...</td>\n",
              "      <td>Homo sapiens</td>\n",
              "      <td>Bcr/Abl fusion protein</td>\n",
              "      <td>9606</td>\n",
              "      <td>NaN</td>\n",
              "      <td>NaN</td>\n",
              "      <td>IC50</td>\n",
              "      <td>uM</td>\n",
              "      <td>NaN</td>\n",
              "      <td>NaN</td>\n",
              "      <td>1.6050</td>\n",
              "    </tr>\n",
              "    <tr>\n",
              "      <th>681</th>\n",
              "      <td>NaN</td>\n",
              "      <td>22989347</td>\n",
              "      <td>[{'comments': None, 'relation': '=', 'result_f...</td>\n",
              "      <td>CHEMBL4774928</td>\n",
              "      <td>Inhibition of BCR-ABL T315I mutant (unknown or...</td>\n",
              "      <td>B</td>\n",
              "      <td>P00519</td>\n",
              "      <td>T315I</td>\n",
              "      <td>BAO_0000179</td>\n",
              "      <td>BAO_0000224</td>\n",
              "      <td>...</td>\n",
              "      <td>Homo sapiens</td>\n",
              "      <td>Bcr/Abl fusion protein</td>\n",
              "      <td>9606</td>\n",
              "      <td>NaN</td>\n",
              "      <td>NaN</td>\n",
              "      <td>IC50</td>\n",
              "      <td>uM</td>\n",
              "      <td>NaN</td>\n",
              "      <td>NaN</td>\n",
              "      <td>100.0000</td>\n",
              "    </tr>\n",
              "    <tr>\n",
              "      <th>682</th>\n",
              "      <td>NaN</td>\n",
              "      <td>22989348</td>\n",
              "      <td>[{'comments': None, 'relation': '=', 'result_f...</td>\n",
              "      <td>CHEMBL4774928</td>\n",
              "      <td>Inhibition of BCR-ABL T315I mutant (unknown or...</td>\n",
              "      <td>B</td>\n",
              "      <td>P00519</td>\n",
              "      <td>T315I</td>\n",
              "      <td>BAO_0000179</td>\n",
              "      <td>BAO_0000224</td>\n",
              "      <td>...</td>\n",
              "      <td>Homo sapiens</td>\n",
              "      <td>Bcr/Abl fusion protein</td>\n",
              "      <td>9606</td>\n",
              "      <td>NaN</td>\n",
              "      <td>NaN</td>\n",
              "      <td>IC50</td>\n",
              "      <td>uM</td>\n",
              "      <td>NaN</td>\n",
              "      <td>NaN</td>\n",
              "      <td>0.0557</td>\n",
              "    </tr>\n",
              "  </tbody>\n",
              "</table>\n",
              "<p>683 rows × 45 columns</p>\n",
              "</div>\n",
              "      <button class=\"colab-df-convert\" onclick=\"convertToInteractive('df-45a86267-6a79-405e-a99e-ff826d8777a1')\"\n",
              "              title=\"Convert this dataframe to an interactive table.\"\n",
              "              style=\"display:none;\">\n",
              "        \n",
              "  <svg xmlns=\"http://www.w3.org/2000/svg\" height=\"24px\"viewBox=\"0 0 24 24\"\n",
              "       width=\"24px\">\n",
              "    <path d=\"M0 0h24v24H0V0z\" fill=\"none\"/>\n",
              "    <path d=\"M18.56 5.44l.94 2.06.94-2.06 2.06-.94-2.06-.94-.94-2.06-.94 2.06-2.06.94zm-11 1L8.5 8.5l.94-2.06 2.06-.94-2.06-.94L8.5 2.5l-.94 2.06-2.06.94zm10 10l.94 2.06.94-2.06 2.06-.94-2.06-.94-.94-2.06-.94 2.06-2.06.94z\"/><path d=\"M17.41 7.96l-1.37-1.37c-.4-.4-.92-.59-1.43-.59-.52 0-1.04.2-1.43.59L10.3 9.45l-7.72 7.72c-.78.78-.78 2.05 0 2.83L4 21.41c.39.39.9.59 1.41.59.51 0 1.02-.2 1.41-.59l7.78-7.78 2.81-2.81c.8-.78.8-2.07 0-2.86zM5.41 20L4 18.59l7.72-7.72 1.47 1.35L5.41 20z\"/>\n",
              "  </svg>\n",
              "      </button>\n",
              "      \n",
              "  <style>\n",
              "    .colab-df-container {\n",
              "      display:flex;\n",
              "      flex-wrap:wrap;\n",
              "      gap: 12px;\n",
              "    }\n",
              "\n",
              "    .colab-df-convert {\n",
              "      background-color: #E8F0FE;\n",
              "      border: none;\n",
              "      border-radius: 50%;\n",
              "      cursor: pointer;\n",
              "      display: none;\n",
              "      fill: #1967D2;\n",
              "      height: 32px;\n",
              "      padding: 0 0 0 0;\n",
              "      width: 32px;\n",
              "    }\n",
              "\n",
              "    .colab-df-convert:hover {\n",
              "      background-color: #E2EBFA;\n",
              "      box-shadow: 0px 1px 2px rgba(60, 64, 67, 0.3), 0px 1px 3px 1px rgba(60, 64, 67, 0.15);\n",
              "      fill: #174EA6;\n",
              "    }\n",
              "\n",
              "    [theme=dark] .colab-df-convert {\n",
              "      background-color: #3B4455;\n",
              "      fill: #D2E3FC;\n",
              "    }\n",
              "\n",
              "    [theme=dark] .colab-df-convert:hover {\n",
              "      background-color: #434B5C;\n",
              "      box-shadow: 0px 1px 3px 1px rgba(0, 0, 0, 0.15);\n",
              "      filter: drop-shadow(0px 1px 2px rgba(0, 0, 0, 0.3));\n",
              "      fill: #FFFFFF;\n",
              "    }\n",
              "  </style>\n",
              "\n",
              "      <script>\n",
              "        const buttonEl =\n",
              "          document.querySelector('#df-45a86267-6a79-405e-a99e-ff826d8777a1 button.colab-df-convert');\n",
              "        buttonEl.style.display =\n",
              "          google.colab.kernel.accessAllowed ? 'block' : 'none';\n",
              "\n",
              "        async function convertToInteractive(key) {\n",
              "          const element = document.querySelector('#df-45a86267-6a79-405e-a99e-ff826d8777a1');\n",
              "          const dataTable =\n",
              "            await google.colab.kernel.invokeFunction('convertToInteractive',\n",
              "                                                     [key], {});\n",
              "          if (!dataTable) return;\n",
              "\n",
              "          const docLinkHtml = 'Like what you see? Visit the ' +\n",
              "            '<a target=\"_blank\" href=https://colab.research.google.com/notebooks/data_table.ipynb>data table notebook</a>'\n",
              "            + ' to learn more about interactive tables.';\n",
              "          element.innerHTML = '';\n",
              "          dataTable['output_type'] = 'display_data';\n",
              "          await google.colab.output.renderOutput(dataTable, element);\n",
              "          const docLink = document.createElement('div');\n",
              "          docLink.innerHTML = docLinkHtml;\n",
              "          element.appendChild(docLink);\n",
              "        }\n",
              "      </script>\n",
              "    </div>\n",
              "  </div>\n",
              "  "
            ]
          },
          "metadata": {},
          "execution_count": 7
        }
      ]
    },
    {
      "cell_type": "code",
      "source": [
        "df_raw.shape"
      ],
      "metadata": {
        "colab": {
          "base_uri": "https://localhost:8080/"
        },
        "id": "lRgaGQO-kPVm",
        "outputId": "dfec3965-c48d-4c9c-dd15-81c4d11603ba"
      },
      "execution_count": null,
      "outputs": [
        {
          "output_type": "execute_result",
          "data": {
            "text/plain": [
              "(683, 45)"
            ]
          },
          "metadata": {},
          "execution_count": 8
        }
      ]
    },
    {
      "cell_type": "code",
      "source": [
        "df_raw.describe()"
      ],
      "metadata": {
        "colab": {
          "base_uri": "https://localhost:8080/",
          "height": 300
        },
        "id": "saXHFGl-kS5d",
        "outputId": "499b87fd-469b-4cf5-99b5-b19f41a422bc"
      },
      "execution_count": null,
      "outputs": [
        {
          "output_type": "execute_result",
          "data": {
            "text/plain": [
              "        activity_id  document_year  pchembl_value  potential_duplicate  \\\n",
              "count  6.830000e+02     683.000000     515.000000                683.0   \n",
              "mean   1.454513e+07    2014.638360       6.421320                  0.0   \n",
              "std    5.491731e+06       3.501921       1.325328                  0.0   \n",
              "min    1.675266e+06    2004.000000       4.000000                  0.0   \n",
              "25%    1.329295e+07    2013.000000       5.415000                  0.0   \n",
              "50%    1.570795e+07    2015.000000       6.300000                  0.0   \n",
              "75%    1.820031e+07    2017.000000       7.405000                  0.0   \n",
              "max    2.298935e+07    2020.000000       9.480000                  0.0   \n",
              "\n",
              "          record_id      src_id  standard_flag  standard_text_value  \\\n",
              "count  6.830000e+02  683.000000     683.000000                  0.0   \n",
              "mean   2.351201e+06    1.162518       0.957540                  NaN   \n",
              "std    8.234287e+05    2.448580       0.201783                  NaN   \n",
              "min    4.222950e+05    1.000000       0.000000                  NaN   \n",
              "25%    1.890980e+06    1.000000       1.000000                  NaN   \n",
              "50%    2.500026e+06    1.000000       1.000000                  NaN   \n",
              "75%    3.019406e+06    1.000000       1.000000                  NaN   \n",
              "max    3.570431e+06   38.000000       1.000000                  NaN   \n",
              "\n",
              "       standard_upper_value  standard_value  target_tax_id  text_value  toid  \\\n",
              "count                   0.0    6.540000e+02          683.0         0.0   0.0   \n",
              "mean                    NaN    2.976115e+04         9606.0         NaN   NaN   \n",
              "std                     NaN    1.316735e+05            0.0         NaN   NaN   \n",
              "min                     NaN    1.200000e-02         9606.0         NaN   NaN   \n",
              "25%                     NaN    9.475000e+01         9606.0         NaN   NaN   \n",
              "50%                     NaN    1.073500e+03         9606.0         NaN   NaN   \n",
              "75%                     NaN    1.000000e+04         9606.0         NaN   NaN   \n",
              "max                     NaN    2.550000e+06         9606.0         NaN   NaN   \n",
              "\n",
              "       upper_value         value  \n",
              "count     6.000000    654.000000  \n",
              "mean   1802.500000    672.363804  \n",
              "std    3990.327581   2205.095533  \n",
              "min       2.000000      0.000900  \n",
              "25%      51.500000      1.162000  \n",
              "50%     259.700000      8.345000  \n",
              "75%     342.050000     93.877500  \n",
              "max    9942.000000  10000.000000  "
            ],
            "text/html": [
              "\n",
              "  <div id=\"df-20abf9f0-21e2-4954-89cf-58d1d8a087f1\">\n",
              "    <div class=\"colab-df-container\">\n",
              "      <div>\n",
              "<style scoped>\n",
              "    .dataframe tbody tr th:only-of-type {\n",
              "        vertical-align: middle;\n",
              "    }\n",
              "\n",
              "    .dataframe tbody tr th {\n",
              "        vertical-align: top;\n",
              "    }\n",
              "\n",
              "    .dataframe thead th {\n",
              "        text-align: right;\n",
              "    }\n",
              "</style>\n",
              "<table border=\"1\" class=\"dataframe\">\n",
              "  <thead>\n",
              "    <tr style=\"text-align: right;\">\n",
              "      <th></th>\n",
              "      <th>activity_id</th>\n",
              "      <th>document_year</th>\n",
              "      <th>pchembl_value</th>\n",
              "      <th>potential_duplicate</th>\n",
              "      <th>record_id</th>\n",
              "      <th>src_id</th>\n",
              "      <th>standard_flag</th>\n",
              "      <th>standard_text_value</th>\n",
              "      <th>standard_upper_value</th>\n",
              "      <th>standard_value</th>\n",
              "      <th>target_tax_id</th>\n",
              "      <th>text_value</th>\n",
              "      <th>toid</th>\n",
              "      <th>upper_value</th>\n",
              "      <th>value</th>\n",
              "    </tr>\n",
              "  </thead>\n",
              "  <tbody>\n",
              "    <tr>\n",
              "      <th>count</th>\n",
              "      <td>6.830000e+02</td>\n",
              "      <td>683.000000</td>\n",
              "      <td>515.000000</td>\n",
              "      <td>683.0</td>\n",
              "      <td>6.830000e+02</td>\n",
              "      <td>683.000000</td>\n",
              "      <td>683.000000</td>\n",
              "      <td>0.0</td>\n",
              "      <td>0.0</td>\n",
              "      <td>6.540000e+02</td>\n",
              "      <td>683.0</td>\n",
              "      <td>0.0</td>\n",
              "      <td>0.0</td>\n",
              "      <td>6.000000</td>\n",
              "      <td>654.000000</td>\n",
              "    </tr>\n",
              "    <tr>\n",
              "      <th>mean</th>\n",
              "      <td>1.454513e+07</td>\n",
              "      <td>2014.638360</td>\n",
              "      <td>6.421320</td>\n",
              "      <td>0.0</td>\n",
              "      <td>2.351201e+06</td>\n",
              "      <td>1.162518</td>\n",
              "      <td>0.957540</td>\n",
              "      <td>NaN</td>\n",
              "      <td>NaN</td>\n",
              "      <td>2.976115e+04</td>\n",
              "      <td>9606.0</td>\n",
              "      <td>NaN</td>\n",
              "      <td>NaN</td>\n",
              "      <td>1802.500000</td>\n",
              "      <td>672.363804</td>\n",
              "    </tr>\n",
              "    <tr>\n",
              "      <th>std</th>\n",
              "      <td>5.491731e+06</td>\n",
              "      <td>3.501921</td>\n",
              "      <td>1.325328</td>\n",
              "      <td>0.0</td>\n",
              "      <td>8.234287e+05</td>\n",
              "      <td>2.448580</td>\n",
              "      <td>0.201783</td>\n",
              "      <td>NaN</td>\n",
              "      <td>NaN</td>\n",
              "      <td>1.316735e+05</td>\n",
              "      <td>0.0</td>\n",
              "      <td>NaN</td>\n",
              "      <td>NaN</td>\n",
              "      <td>3990.327581</td>\n",
              "      <td>2205.095533</td>\n",
              "    </tr>\n",
              "    <tr>\n",
              "      <th>min</th>\n",
              "      <td>1.675266e+06</td>\n",
              "      <td>2004.000000</td>\n",
              "      <td>4.000000</td>\n",
              "      <td>0.0</td>\n",
              "      <td>4.222950e+05</td>\n",
              "      <td>1.000000</td>\n",
              "      <td>0.000000</td>\n",
              "      <td>NaN</td>\n",
              "      <td>NaN</td>\n",
              "      <td>1.200000e-02</td>\n",
              "      <td>9606.0</td>\n",
              "      <td>NaN</td>\n",
              "      <td>NaN</td>\n",
              "      <td>2.000000</td>\n",
              "      <td>0.000900</td>\n",
              "    </tr>\n",
              "    <tr>\n",
              "      <th>25%</th>\n",
              "      <td>1.329295e+07</td>\n",
              "      <td>2013.000000</td>\n",
              "      <td>5.415000</td>\n",
              "      <td>0.0</td>\n",
              "      <td>1.890980e+06</td>\n",
              "      <td>1.000000</td>\n",
              "      <td>1.000000</td>\n",
              "      <td>NaN</td>\n",
              "      <td>NaN</td>\n",
              "      <td>9.475000e+01</td>\n",
              "      <td>9606.0</td>\n",
              "      <td>NaN</td>\n",
              "      <td>NaN</td>\n",
              "      <td>51.500000</td>\n",
              "      <td>1.162000</td>\n",
              "    </tr>\n",
              "    <tr>\n",
              "      <th>50%</th>\n",
              "      <td>1.570795e+07</td>\n",
              "      <td>2015.000000</td>\n",
              "      <td>6.300000</td>\n",
              "      <td>0.0</td>\n",
              "      <td>2.500026e+06</td>\n",
              "      <td>1.000000</td>\n",
              "      <td>1.000000</td>\n",
              "      <td>NaN</td>\n",
              "      <td>NaN</td>\n",
              "      <td>1.073500e+03</td>\n",
              "      <td>9606.0</td>\n",
              "      <td>NaN</td>\n",
              "      <td>NaN</td>\n",
              "      <td>259.700000</td>\n",
              "      <td>8.345000</td>\n",
              "    </tr>\n",
              "    <tr>\n",
              "      <th>75%</th>\n",
              "      <td>1.820031e+07</td>\n",
              "      <td>2017.000000</td>\n",
              "      <td>7.405000</td>\n",
              "      <td>0.0</td>\n",
              "      <td>3.019406e+06</td>\n",
              "      <td>1.000000</td>\n",
              "      <td>1.000000</td>\n",
              "      <td>NaN</td>\n",
              "      <td>NaN</td>\n",
              "      <td>1.000000e+04</td>\n",
              "      <td>9606.0</td>\n",
              "      <td>NaN</td>\n",
              "      <td>NaN</td>\n",
              "      <td>342.050000</td>\n",
              "      <td>93.877500</td>\n",
              "    </tr>\n",
              "    <tr>\n",
              "      <th>max</th>\n",
              "      <td>2.298935e+07</td>\n",
              "      <td>2020.000000</td>\n",
              "      <td>9.480000</td>\n",
              "      <td>0.0</td>\n",
              "      <td>3.570431e+06</td>\n",
              "      <td>38.000000</td>\n",
              "      <td>1.000000</td>\n",
              "      <td>NaN</td>\n",
              "      <td>NaN</td>\n",
              "      <td>2.550000e+06</td>\n",
              "      <td>9606.0</td>\n",
              "      <td>NaN</td>\n",
              "      <td>NaN</td>\n",
              "      <td>9942.000000</td>\n",
              "      <td>10000.000000</td>\n",
              "    </tr>\n",
              "  </tbody>\n",
              "</table>\n",
              "</div>\n",
              "      <button class=\"colab-df-convert\" onclick=\"convertToInteractive('df-20abf9f0-21e2-4954-89cf-58d1d8a087f1')\"\n",
              "              title=\"Convert this dataframe to an interactive table.\"\n",
              "              style=\"display:none;\">\n",
              "        \n",
              "  <svg xmlns=\"http://www.w3.org/2000/svg\" height=\"24px\"viewBox=\"0 0 24 24\"\n",
              "       width=\"24px\">\n",
              "    <path d=\"M0 0h24v24H0V0z\" fill=\"none\"/>\n",
              "    <path d=\"M18.56 5.44l.94 2.06.94-2.06 2.06-.94-2.06-.94-.94-2.06-.94 2.06-2.06.94zm-11 1L8.5 8.5l.94-2.06 2.06-.94-2.06-.94L8.5 2.5l-.94 2.06-2.06.94zm10 10l.94 2.06.94-2.06 2.06-.94-2.06-.94-.94-2.06-.94 2.06-2.06.94z\"/><path d=\"M17.41 7.96l-1.37-1.37c-.4-.4-.92-.59-1.43-.59-.52 0-1.04.2-1.43.59L10.3 9.45l-7.72 7.72c-.78.78-.78 2.05 0 2.83L4 21.41c.39.39.9.59 1.41.59.51 0 1.02-.2 1.41-.59l7.78-7.78 2.81-2.81c.8-.78.8-2.07 0-2.86zM5.41 20L4 18.59l7.72-7.72 1.47 1.35L5.41 20z\"/>\n",
              "  </svg>\n",
              "      </button>\n",
              "      \n",
              "  <style>\n",
              "    .colab-df-container {\n",
              "      display:flex;\n",
              "      flex-wrap:wrap;\n",
              "      gap: 12px;\n",
              "    }\n",
              "\n",
              "    .colab-df-convert {\n",
              "      background-color: #E8F0FE;\n",
              "      border: none;\n",
              "      border-radius: 50%;\n",
              "      cursor: pointer;\n",
              "      display: none;\n",
              "      fill: #1967D2;\n",
              "      height: 32px;\n",
              "      padding: 0 0 0 0;\n",
              "      width: 32px;\n",
              "    }\n",
              "\n",
              "    .colab-df-convert:hover {\n",
              "      background-color: #E2EBFA;\n",
              "      box-shadow: 0px 1px 2px rgba(60, 64, 67, 0.3), 0px 1px 3px 1px rgba(60, 64, 67, 0.15);\n",
              "      fill: #174EA6;\n",
              "    }\n",
              "\n",
              "    [theme=dark] .colab-df-convert {\n",
              "      background-color: #3B4455;\n",
              "      fill: #D2E3FC;\n",
              "    }\n",
              "\n",
              "    [theme=dark] .colab-df-convert:hover {\n",
              "      background-color: #434B5C;\n",
              "      box-shadow: 0px 1px 3px 1px rgba(0, 0, 0, 0.15);\n",
              "      filter: drop-shadow(0px 1px 2px rgba(0, 0, 0, 0.3));\n",
              "      fill: #FFFFFF;\n",
              "    }\n",
              "  </style>\n",
              "\n",
              "      <script>\n",
              "        const buttonEl =\n",
              "          document.querySelector('#df-20abf9f0-21e2-4954-89cf-58d1d8a087f1 button.colab-df-convert');\n",
              "        buttonEl.style.display =\n",
              "          google.colab.kernel.accessAllowed ? 'block' : 'none';\n",
              "\n",
              "        async function convertToInteractive(key) {\n",
              "          const element = document.querySelector('#df-20abf9f0-21e2-4954-89cf-58d1d8a087f1');\n",
              "          const dataTable =\n",
              "            await google.colab.kernel.invokeFunction('convertToInteractive',\n",
              "                                                     [key], {});\n",
              "          if (!dataTable) return;\n",
              "\n",
              "          const docLinkHtml = 'Like what you see? Visit the ' +\n",
              "            '<a target=\"_blank\" href=https://colab.research.google.com/notebooks/data_table.ipynb>data table notebook</a>'\n",
              "            + ' to learn more about interactive tables.';\n",
              "          element.innerHTML = '';\n",
              "          dataTable['output_type'] = 'display_data';\n",
              "          await google.colab.output.renderOutput(dataTable, element);\n",
              "          const docLink = document.createElement('div');\n",
              "          docLink.innerHTML = docLinkHtml;\n",
              "          element.appendChild(docLink);\n",
              "        }\n",
              "      </script>\n",
              "    </div>\n",
              "  </div>\n",
              "  "
            ]
          },
          "metadata": {},
          "execution_count": 9
        }
      ]
    },
    {
      "cell_type": "code",
      "source": [
        "df_raw.info()"
      ],
      "metadata": {
        "colab": {
          "base_uri": "https://localhost:8080/"
        },
        "id": "UcHZd9I4kcx2",
        "outputId": "58c5c7e9-f7ed-4c5b-f60e-86ee60ba5cc5"
      },
      "execution_count": null,
      "outputs": [
        {
          "output_type": "stream",
          "name": "stdout",
          "text": [
            "<class 'pandas.core.frame.DataFrame'>\n",
            "RangeIndex: 683 entries, 0 to 682\n",
            "Data columns (total 45 columns):\n",
            " #   Column                     Non-Null Count  Dtype  \n",
            "---  ------                     --------------  -----  \n",
            " 0   activity_comment           29 non-null     object \n",
            " 1   activity_id                683 non-null    int64  \n",
            " 2   activity_properties        683 non-null    object \n",
            " 3   assay_chembl_id            683 non-null    object \n",
            " 4   assay_description          683 non-null    object \n",
            " 5   assay_type                 683 non-null    object \n",
            " 6   assay_variant_accession    98 non-null     object \n",
            " 7   assay_variant_mutation     98 non-null     object \n",
            " 8   bao_endpoint               683 non-null    object \n",
            " 9   bao_format                 683 non-null    object \n",
            " 10  bao_label                  683 non-null    object \n",
            " 11  canonical_smiles           683 non-null    object \n",
            " 12  data_validity_comment      26 non-null     object \n",
            " 13  data_validity_description  26 non-null     object \n",
            " 14  document_chembl_id         683 non-null    object \n",
            " 15  document_journal           680 non-null    object \n",
            " 16  document_year              683 non-null    int64  \n",
            " 17  ligand_efficiency          492 non-null    object \n",
            " 18  molecule_chembl_id         683 non-null    object \n",
            " 19  molecule_pref_name         82 non-null     object \n",
            " 20  parent_molecule_chembl_id  683 non-null    object \n",
            " 21  pchembl_value              515 non-null    float64\n",
            " 22  potential_duplicate        683 non-null    int64  \n",
            " 23  qudt_units                 606 non-null    object \n",
            " 24  record_id                  683 non-null    int64  \n",
            " 25  relation                   654 non-null    object \n",
            " 26  src_id                     683 non-null    int64  \n",
            " 27  standard_flag              683 non-null    int64  \n",
            " 28  standard_relation          654 non-null    object \n",
            " 29  standard_text_value        0 non-null      float64\n",
            " 30  standard_type              683 non-null    object \n",
            " 31  standard_units             654 non-null    object \n",
            " 32  standard_upper_value       0 non-null      float64\n",
            " 33  standard_value             654 non-null    float64\n",
            " 34  target_chembl_id           683 non-null    object \n",
            " 35  target_organism            683 non-null    object \n",
            " 36  target_pref_name           683 non-null    object \n",
            " 37  target_tax_id              683 non-null    int64  \n",
            " 38  text_value                 0 non-null      float64\n",
            " 39  toid                       0 non-null      float64\n",
            " 40  type                       683 non-null    object \n",
            " 41  units                      585 non-null    object \n",
            " 42  uo_units                   606 non-null    object \n",
            " 43  upper_value                6 non-null      float64\n",
            " 44  value                      654 non-null    float64\n",
            "dtypes: float64(8), int64(7), object(30)\n",
            "memory usage: 240.2+ KB\n"
          ]
        }
      ]
    },
    {
      "cell_type": "code",
      "source": [
        "df_raw.isnull().sum()"
      ],
      "metadata": {
        "colab": {
          "base_uri": "https://localhost:8080/"
        },
        "id": "dEzEMfSRkhle",
        "outputId": "601b6d03-7bfe-45d5-b366-e2c80d43189e"
      },
      "execution_count": null,
      "outputs": [
        {
          "output_type": "execute_result",
          "data": {
            "text/plain": [
              "activity_comment             654\n",
              "activity_id                    0\n",
              "activity_properties            0\n",
              "assay_chembl_id                0\n",
              "assay_description              0\n",
              "assay_type                     0\n",
              "assay_variant_accession      585\n",
              "assay_variant_mutation       585\n",
              "bao_endpoint                   0\n",
              "bao_format                     0\n",
              "bao_label                      0\n",
              "canonical_smiles               0\n",
              "data_validity_comment        657\n",
              "data_validity_description    657\n",
              "document_chembl_id             0\n",
              "document_journal               3\n",
              "document_year                  0\n",
              "ligand_efficiency            191\n",
              "molecule_chembl_id             0\n",
              "molecule_pref_name           601\n",
              "parent_molecule_chembl_id      0\n",
              "pchembl_value                168\n",
              "potential_duplicate            0\n",
              "qudt_units                    77\n",
              "record_id                      0\n",
              "relation                      29\n",
              "src_id                         0\n",
              "standard_flag                  0\n",
              "standard_relation             29\n",
              "standard_text_value          683\n",
              "standard_type                  0\n",
              "standard_units                29\n",
              "standard_upper_value         683\n",
              "standard_value                29\n",
              "target_chembl_id               0\n",
              "target_organism                0\n",
              "target_pref_name               0\n",
              "target_tax_id                  0\n",
              "text_value                   683\n",
              "toid                         683\n",
              "type                           0\n",
              "units                         98\n",
              "uo_units                      77\n",
              "upper_value                  677\n",
              "value                         29\n",
              "dtype: int64"
            ]
          },
          "metadata": {},
          "execution_count": 11
        }
      ]
    },
    {
      "cell_type": "code",
      "source": [
        "df_raw.duplicated().sum()"
      ],
      "metadata": {
        "colab": {
          "base_uri": "https://localhost:8080/"
        },
        "id": "1BAL4Nf9mLOf",
        "outputId": "8504f1e3-387b-4092-82a9-f8e5f10b03a5"
      },
      "execution_count": null,
      "outputs": [
        {
          "output_type": "execute_result",
          "data": {
            "text/plain": [
              "0"
            ]
          },
          "metadata": {},
          "execution_count": 12
        }
      ]
    },
    {
      "cell_type": "code",
      "source": [
        "df_raw.bao_label.value_counts() # Bioassay ontology"
      ],
      "metadata": {
        "colab": {
          "base_uri": "https://localhost:8080/"
        },
        "id": "77hKQQgOm0SX",
        "outputId": "1f470492-afa5-4efe-d871-8f23322c8d0a"
      },
      "execution_count": null,
      "outputs": [
        {
          "output_type": "execute_result",
          "data": {
            "text/plain": [
              "protein format           449\n",
              "cell-based format        139\n",
              "assay format              80\n",
              "single protein format     15\n",
              "Name: bao_label, dtype: int64"
            ]
          },
          "metadata": {},
          "execution_count": 13
        }
      ]
    },
    {
      "cell_type": "code",
      "source": [
        "df_raw.bao_label.value_counts().plot(kind=\"bar\", color ='aqua')\n",
        "plt.title(\"Value counts of the Bioassay Ontology (Bao)\")\n",
        "plt.xlabel(\"Bao label\")\n",
        "plt.xticks(rotation=0)\n",
        "plt.ylabel(\"Count\")\n",
        "plt.show()"
      ],
      "metadata": {
        "colab": {
          "base_uri": "https://localhost:8080/",
          "height": 408
        },
        "id": "5W-5QSFqoBMX",
        "outputId": "8ac31b45-ff6b-43dd-ec63-97cf42ca19cb"
      },
      "execution_count": null,
      "outputs": [
        {
          "output_type": "display_data",
          "data": {
            "text/plain": [
              "<Figure size 864x432 with 1 Axes>"
            ],
            "image/png": "[encoded data removed]"
          },
          "metadata": {}
        }
      ]
    },
    {
      "cell_type": "code",
      "source": [
        "df_missing = df_raw.pchembl_value.isnull().sum()"
      ],
      "metadata": {
        "id": "ZRRo_T-EneKG"
      },
      "execution_count": null,
      "outputs": []
    },
    {
      "cell_type": "code",
      "source": [
        "df_missing"
      ],
      "metadata": {
        "colab": {
          "base_uri": "https://localhost:8080/"
        },
        "id": "E87LGN2AniUe",
        "outputId": "7eceeef2-263c-4710-c600-376cd981cb33"
      },
      "execution_count": null,
      "outputs": [
        {
          "output_type": "execute_result",
          "data": {
            "text/plain": [
              "168"
            ]
          },
          "metadata": {},
          "execution_count": 16
        }
      ]
    },
    {
      "cell_type": "code",
      "source": [
        "df_nonmissing = df_raw.pchembl_value.notnull().sum()"
      ],
      "metadata": {
        "id": "5Ol7J6menoYW"
      },
      "execution_count": null,
      "outputs": []
    },
    {
      "cell_type": "code",
      "source": [
        "df_nonmissing"
      ],
      "metadata": {
        "colab": {
          "base_uri": "https://localhost:8080/"
        },
        "id": "Fi3dguZznrFO",
        "outputId": "8b9d32db-4195-484f-ef12-fe59c81df5a3"
      },
      "execution_count": null,
      "outputs": [
        {
          "output_type": "execute_result",
          "data": {
            "text/plain": [
              "515"
            ]
          },
          "metadata": {},
          "execution_count": 18
        }
      ]
    },
    {
      "cell_type": "code",
      "source": [
        "# Bar plot of Missing vs Non-Missing Data of pCHEMBL values\n",
        "\n",
        "# Data\n",
        "missing = df_raw.pchembl_value.isnull().sum()\n",
        "nonmissing = df_raw.pchembl_value.notnull().sum()\n",
        "\n",
        "x = ['Missing', 'Non-Missing']\n",
        "y = [missing, nonmissing]\n",
        "\n",
        "# Setup plot\n",
        "fig, ax = plt.subplots()\n",
        "\n",
        "# Make bar plot\n",
        "p = ax.bar(x, y, color = ['#F8766D', '#00BFC4'], ec = 'black')\n",
        "\n",
        "ax.set_title('BCR-ABL pChEMBL Missing & Non-missing Data', fontsize=14, fontweight='bold', pad=15)\n",
        "\n",
        "ax.set_ylim(0,700)\n",
        "plt.xticks(fontsize=14)\n",
        "plt.yticks(fontsize=14)\n",
        "\n",
        "# Label above bar\n",
        "for index, data in enumerate(y):\n",
        "    plt.text(x=index-0.1 , y =data+100 , s=f\"{data}\" , fontdict=dict(fontsize=14))\n",
        "\n",
        "fig.set_size_inches(5,4.5)\n",
        "plt.show()"
      ],
      "metadata": {
        "colab": {
          "base_uri": "https://localhost:8080/",
          "height": 323
        },
        "id": "EaJrZDPJnxPm",
        "outputId": "6d86e381-1dd9-44ca-bd68-089de642cb88"
      },
      "execution_count": null,
      "outputs": [
        {
          "output_type": "display_data",
          "data": {
            "text/plain": [
              "<Figure size 360x324 with 1 Axes>"
            ],
            "image/png": "[encoded data removed]"
          },
          "metadata": {}
        }
      ]
    },
    {
      "cell_type": "code",
      "source": [
        "df_non_miss = df_raw[df_raw.pchembl_value.notnull()]"
      ],
      "metadata": {
        "id": "oJi3cXqco0y-"
      },
      "execution_count": null,
      "outputs": []
    },
    {
      "cell_type": "code",
      "source": [
        "df_non_miss.shape"
      ],
      "metadata": {
        "colab": {
          "base_uri": "https://localhost:8080/"
        },
        "id": "S0v_CsX_o5bv",
        "outputId": "a825cb51-4669-4b02-bd4b-e073801c57ac"
      },
      "execution_count": null,
      "outputs": [
        {
          "output_type": "execute_result",
          "data": {
            "text/plain": [
              "(515, 45)"
            ]
          },
          "metadata": {},
          "execution_count": 21
        }
      ]
    },
    {
      "cell_type": "code",
      "source": [
        "df_non_miss"
      ],
      "metadata": {
        "colab": {
          "base_uri": "https://localhost:8080/",
          "height": 835
        },
        "id": "o9Op2bUAo-NX",
        "outputId": "b93f4562-77cb-46e9-ec5d-1b699db8ae48"
      },
      "execution_count": null,
      "outputs": [
        {
          "output_type": "execute_result",
          "data": {
            "text/plain": [
              "    activity_comment  activity_id  \\\n",
              "0                NaN      1675266   \n",
              "2                NaN      1675351   \n",
              "3                NaN      1675352   \n",
              "4                NaN      1675353   \n",
              "9                NaN      1714080   \n",
              "..               ...          ...   \n",
              "677              NaN     22989343   \n",
              "678              NaN     22989344   \n",
              "679              NaN     22989345   \n",
              "680              NaN     22989346   \n",
              "682              NaN     22989348   \n",
              "\n",
              "                                   activity_properties assay_chembl_id  \\\n",
              "0                                                   []    CHEMBL867071   \n",
              "2                                                   []    CHEMBL867071   \n",
              "3                                                   []    CHEMBL867071   \n",
              "4                                                   []    CHEMBL867071   \n",
              "9                                                   []    CHEMBL861701   \n",
              "..                                                 ...             ...   \n",
              "677  [{'comments': None, 'relation': '=', 'result_f...   CHEMBL4774928   \n",
              "678  [{'comments': None, 'relation': '=', 'result_f...   CHEMBL4774928   \n",
              "679  [{'comments': None, 'relation': '=', 'result_f...   CHEMBL4774928   \n",
              "680  [{'comments': None, 'relation': '=', 'result_f...   CHEMBL4774928   \n",
              "682  [{'comments': None, 'relation': '=', 'result_f...   CHEMBL4774928   \n",
              "\n",
              "                                     assay_description assay_type  \\\n",
              "0    Antiproliferative activity against human BCR-A...          F   \n",
              "2    Antiproliferative activity against human BCR-A...          F   \n",
              "3    Antiproliferative activity against human BCR-A...          F   \n",
              "4    Antiproliferative activity against human BCR-A...          F   \n",
              "9    Antiproliferative activity against human K562 ...          F   \n",
              "..                                                 ...        ...   \n",
              "677  Inhibition of BCR-ABL T315I mutant (unknown or...          B   \n",
              "678  Inhibition of BCR-ABL T315I mutant (unknown or...          B   \n",
              "679  Inhibition of BCR-ABL T315I mutant (unknown or...          B   \n",
              "680  Inhibition of BCR-ABL T315I mutant (unknown or...          B   \n",
              "682  Inhibition of BCR-ABL T315I mutant (unknown or...          B   \n",
              "\n",
              "    assay_variant_accession assay_variant_mutation bao_endpoint   bao_format  \\\n",
              "0                       NaN                    NaN  BAO_0000190  BAO_0000219   \n",
              "2                       NaN                    NaN  BAO_0000190  BAO_0000219   \n",
              "3                       NaN                    NaN  BAO_0000190  BAO_0000219   \n",
              "4                       NaN                    NaN  BAO_0000190  BAO_0000219   \n",
              "9                       NaN                    NaN  BAO_0000190  BAO_0000219   \n",
              "..                      ...                    ...          ...          ...   \n",
              "677                  P00519                  T315I  BAO_0000179  BAO_0000224   \n",
              "678                  P00519                  T315I  BAO_0000179  BAO_0000224   \n",
              "679                  P00519                  T315I  BAO_0000179  BAO_0000224   \n",
              "680                  P00519                  T315I  BAO_0000179  BAO_0000224   \n",
              "682                  P00519                  T315I  BAO_0000179  BAO_0000224   \n",
              "\n",
              "     ... target_organism        target_pref_name target_tax_id text_value  \\\n",
              "0    ...    Homo sapiens  Bcr/Abl fusion protein          9606        NaN   \n",
              "2    ...    Homo sapiens  Bcr/Abl fusion protein          9606        NaN   \n",
              "3    ...    Homo sapiens  Bcr/Abl fusion protein          9606        NaN   \n",
              "4    ...    Homo sapiens  Bcr/Abl fusion protein          9606        NaN   \n",
              "9    ...    Homo sapiens  Bcr/Abl fusion protein          9606        NaN   \n",
              "..   ...             ...                     ...           ...        ...   \n",
              "677  ...    Homo sapiens  Bcr/Abl fusion protein          9606        NaN   \n",
              "678  ...    Homo sapiens  Bcr/Abl fusion protein          9606        NaN   \n",
              "679  ...    Homo sapiens  Bcr/Abl fusion protein          9606        NaN   \n",
              "680  ...    Homo sapiens  Bcr/Abl fusion protein          9606        NaN   \n",
              "682  ...    Homo sapiens  Bcr/Abl fusion protein          9606        NaN   \n",
              "\n",
              "    toid  type  units    uo_units upper_value    value  \n",
              "0    NaN  IC50     uM  UO_0000065         NaN   9.5000  \n",
              "2    NaN  IC50     uM  UO_0000065         NaN  14.6000  \n",
              "3    NaN  IC50     uM  UO_0000065         NaN  12.9000  \n",
              "4    NaN  IC50     uM  UO_0000065         NaN   3.8000  \n",
              "9    NaN  IC50     uM  UO_0000065         NaN  28.0000  \n",
              "..   ...   ...    ...         ...         ...      ...  \n",
              "677  NaN  IC50     uM         NaN         NaN   1.6350  \n",
              "678  NaN  IC50     uM         NaN         NaN   2.5100  \n",
              "679  NaN  IC50     uM         NaN         NaN   1.4200  \n",
              "680  NaN  IC50     uM         NaN         NaN   1.6050  \n",
              "682  NaN  IC50     uM         NaN         NaN   0.0557  \n",
              "\n",
              "[515 rows x 45 columns]"
            ],
            "text/html": [
              "\n",
              "  <div id=\"df-5ad4beb2-fa6e-4c94-8c03-3aa8c24eb644\">\n",
              "    <div class=\"colab-df-container\">\n",
              "      <div>\n",
              "<style scoped>\n",
              "    .dataframe tbody tr th:only-of-type {\n",
              "        vertical-align: middle;\n",
              "    }\n",
              "\n",
              "    .dataframe tbody tr th {\n",
              "        vertical-align: top;\n",
              "    }\n",
              "\n",
              "    .dataframe thead th {\n",
              "        text-align: right;\n",
              "    }\n",
              "</style>\n",
              "<table border=\"1\" class=\"dataframe\">\n",
              "  <thead>\n",
              "    <tr style=\"text-align: right;\">\n",
              "      <th></th>\n",
              "      <th>activity_comment</th>\n",
              "      <th>activity_id</th>\n",
              "      <th>activity_properties</th>\n",
              "      <th>assay_chembl_id</th>\n",
              "      <th>assay_description</th>\n",
              "      <th>assay_type</th>\n",
              "      <th>assay_variant_accession</th>\n",
              "      <th>assay_variant_mutation</th>\n",
              "      <th>bao_endpoint</th>\n",
              "      <th>bao_format</th>\n",
              "      <th>...</th>\n",
              "      <th>target_organism</th>\n",
              "      <th>target_pref_name</th>\n",
              "      <th>target_tax_id</th>\n",
              "      <th>text_value</th>\n",
              "      <th>toid</th>\n",
              "      <th>type</th>\n",
              "      <th>units</th>\n",
              "      <th>uo_units</th>\n",
              "      <th>upper_value</th>\n",
              "      <th>value</th>\n",
              "    </tr>\n",
              "  </thead>\n",
              "  <tbody>\n",
              "    <tr>\n",
              "      <th>0</th>\n",
              "      <td>NaN</td>\n",
              "      <td>1675266</td>\n",
              "      <td>[]</td>\n",
              "      <td>CHEMBL867071</td>\n",
              "      <td>Antiproliferative activity against human BCR-A...</td>\n",
              "      <td>F</td>\n",
              "      <td>NaN</td>\n",
              "      <td>NaN</td>\n",
              "      <td>BAO_0000190</td>\n",
              "      <td>BAO_0000219</td>\n",
              "      <td>...</td>\n",
              "      <td>Homo sapiens</td>\n",
              "      <td>Bcr/Abl fusion protein</td>\n",
              "      <td>9606</td>\n",
              "      <td>NaN</td>\n",
              "      <td>NaN</td>\n",
              "      <td>IC50</td>\n",
              "      <td>uM</td>\n",
              "      <td>UO_0000065</td>\n",
              "      <td>NaN</td>\n",
              "      <td>9.5000</td>\n",
              "    </tr>\n",
              "    <tr>\n",
              "      <th>2</th>\n",
              "      <td>NaN</td>\n",
              "      <td>1675351</td>\n",
              "      <td>[]</td>\n",
              "      <td>CHEMBL867071</td>\n",
              "      <td>Antiproliferative activity against human BCR-A...</td>\n",
              "      <td>F</td>\n",
              "      <td>NaN</td>\n",
              "      <td>NaN</td>\n",
              "      <td>BAO_0000190</td>\n",
              "      <td>BAO_0000219</td>\n",
              "      <td>...</td>\n",
              "      <td>Homo sapiens</td>\n",
              "      <td>Bcr/Abl fusion protein</td>\n",
              "      <td>9606</td>\n",
              "      <td>NaN</td>\n",
              "      <td>NaN</td>\n",
              "      <td>IC50</td>\n",
              "      <td>uM</td>\n",
              "      <td>UO_0000065</td>\n",
              "      <td>NaN</td>\n",
              "      <td>14.6000</td>\n",
              "    </tr>\n",
              "    <tr>\n",
              "      <th>3</th>\n",
              "      <td>NaN</td>\n",
              "      <td>1675352</td>\n",
              "      <td>[]</td>\n",
              "      <td>CHEMBL867071</td>\n",
              "      <td>Antiproliferative activity against human BCR-A...</td>\n",
              "      <td>F</td>\n",
              "      <td>NaN</td>\n",
              "      <td>NaN</td>\n",
              "      <td>BAO_0000190</td>\n",
              "      <td>BAO_0000219</td>\n",
              "      <td>...</td>\n",
              "      <td>Homo sapiens</td>\n",
              "      <td>Bcr/Abl fusion protein</td>\n",
              "      <td>9606</td>\n",
              "      <td>NaN</td>\n",
              "      <td>NaN</td>\n",
              "      <td>IC50</td>\n",
              "      <td>uM</td>\n",
              "      <td>UO_0000065</td>\n",
              "      <td>NaN</td>\n",
              "      <td>12.9000</td>\n",
              "    </tr>\n",
              "    <tr>\n",
              "      <th>4</th>\n",
              "      <td>NaN</td>\n",
              "      <td>1675353</td>\n",
              "      <td>[]</td>\n",
              "      <td>CHEMBL867071</td>\n",
              "      <td>Antiproliferative activity against human BCR-A...</td>\n",
              "      <td>F</td>\n",
              "      <td>NaN</td>\n",
              "      <td>NaN</td>\n",
              "      <td>BAO_0000190</td>\n",
              "      <td>BAO_0000219</td>\n",
              "      <td>...</td>\n",
              "      <td>Homo sapiens</td>\n",
              "      <td>Bcr/Abl fusion protein</td>\n",
              "      <td>9606</td>\n",
              "      <td>NaN</td>\n",
              "      <td>NaN</td>\n",
              "      <td>IC50</td>\n",
              "      <td>uM</td>\n",
              "      <td>UO_0000065</td>\n",
              "      <td>NaN</td>\n",
              "      <td>3.8000</td>\n",
              "    </tr>\n",
              "    <tr>\n",
              "      <th>9</th>\n",
              "      <td>NaN</td>\n",
              "      <td>1714080</td>\n",
              "      <td>[]</td>\n",
              "      <td>CHEMBL861701</td>\n",
              "      <td>Antiproliferative activity against human K562 ...</td>\n",
              "      <td>F</td>\n",
              "      <td>NaN</td>\n",
              "      <td>NaN</td>\n",
              "      <td>BAO_0000190</td>\n",
              "      <td>BAO_0000219</td>\n",
              "      <td>...</td>\n",
              "      <td>Homo sapiens</td>\n",
              "      <td>Bcr/Abl fusion protein</td>\n",
              "      <td>9606</td>\n",
              "      <td>NaN</td>\n",
              "      <td>NaN</td>\n",
              "      <td>IC50</td>\n",
              "      <td>uM</td>\n",
              "      <td>UO_0000065</td>\n",
              "      <td>NaN</td>\n",
              "      <td>28.0000</td>\n",
              "    </tr>\n",
              "    <tr>\n",
              "      <th>...</th>\n",
              "      <td>...</td>\n",
              "      <td>...</td>\n",
              "      <td>...</td>\n",
              "      <td>...</td>\n",
              "      <td>...</td>\n",
              "      <td>...</td>\n",
              "      <td>...</td>\n",
              "      <td>...</td>\n",
              "      <td>...</td>\n",
              "      <td>...</td>\n",
              "      <td>...</td>\n",
              "      <td>...</td>\n",
              "      <td>...</td>\n",
              "      <td>...</td>\n",
              "      <td>...</td>\n",
              "      <td>...</td>\n",
              "      <td>...</td>\n",
              "      <td>...</td>\n",
              "      <td>...</td>\n",
              "      <td>...</td>\n",
              "      <td>...</td>\n",
              "    </tr>\n",
              "    <tr>\n",
              "      <th>677</th>\n",
              "      <td>NaN</td>\n",
              "      <td>22989343</td>\n",
              "      <td>[{'comments': None, 'relation': '=', 'result_f...</td>\n",
              "      <td>CHEMBL4774928</td>\n",
              "      <td>Inhibition of BCR-ABL T315I mutant (unknown or...</td>\n",
              "      <td>B</td>\n",
              "      <td>P00519</td>\n",
              "      <td>T315I</td>\n",
              "      <td>BAO_0000179</td>\n",
              "      <td>BAO_0000224</td>\n",
              "      <td>...</td>\n",
              "      <td>Homo sapiens</td>\n",
              "      <td>Bcr/Abl fusion protein</td>\n",
              "      <td>9606</td>\n",
              "      <td>NaN</td>\n",
              "      <td>NaN</td>\n",
              "      <td>IC50</td>\n",
              "      <td>uM</td>\n",
              "      <td>NaN</td>\n",
              "      <td>NaN</td>\n",
              "      <td>1.6350</td>\n",
              "    </tr>\n",
              "    <tr>\n",
              "      <th>678</th>\n",
              "      <td>NaN</td>\n",
              "      <td>22989344</td>\n",
              "      <td>[{'comments': None, 'relation': '=', 'result_f...</td>\n",
              "      <td>CHEMBL4774928</td>\n",
              "      <td>Inhibition of BCR-ABL T315I mutant (unknown or...</td>\n",
              "      <td>B</td>\n",
              "      <td>P00519</td>\n",
              "      <td>T315I</td>\n",
              "      <td>BAO_0000179</td>\n",
              "      <td>BAO_0000224</td>\n",
              "      <td>...</td>\n",
              "      <td>Homo sapiens</td>\n",
              "      <td>Bcr/Abl fusion protein</td>\n",
              "      <td>9606</td>\n",
              "      <td>NaN</td>\n",
              "      <td>NaN</td>\n",
              "      <td>IC50</td>\n",
              "      <td>uM</td>\n",
              "      <td>NaN</td>\n",
              "      <td>NaN</td>\n",
              "      <td>2.5100</td>\n",
              "    </tr>\n",
              "    <tr>\n",
              "      <th>679</th>\n",
              "      <td>NaN</td>\n",
              "      <td>22989345</td>\n",
              "      <td>[{'comments': None, 'relation': '=', 'result_f...</td>\n",
              "      <td>CHEMBL4774928</td>\n",
              "      <td>Inhibition of BCR-ABL T315I mutant (unknown or...</td>\n",
              "      <td>B</td>\n",
              "      <td>P00519</td>\n",
              "      <td>T315I</td>\n",
              "      <td>BAO_0000179</td>\n",
              "      <td>BAO_0000224</td>\n",
              "      <td>...</td>\n",
              "      <td>Homo sapiens</td>\n",
              "      <td>Bcr/Abl fusion protein</td>\n",
              "      <td>9606</td>\n",
              "      <td>NaN</td>\n",
              "      <td>NaN</td>\n",
              "      <td>IC50</td>\n",
              "      <td>uM</td>\n",
              "      <td>NaN</td>\n",
              "      <td>NaN</td>\n",
              "      <td>1.4200</td>\n",
              "    </tr>\n",
              "    <tr>\n",
              "      <th>680</th>\n",
              "      <td>NaN</td>\n",
              "      <td>22989346</td>\n",
              "      <td>[{'comments': None, 'relation': '=', 'result_f...</td>\n",
              "      <td>CHEMBL4774928</td>\n",
              "      <td>Inhibition of BCR-ABL T315I mutant (unknown or...</td>\n",
              "      <td>B</td>\n",
              "      <td>P00519</td>\n",
              "      <td>T315I</td>\n",
              "      <td>BAO_0000179</td>\n",
              "      <td>BAO_0000224</td>\n",
              "      <td>...</td>\n",
              "      <td>Homo sapiens</td>\n",
              "      <td>Bcr/Abl fusion protein</td>\n",
              "      <td>9606</td>\n",
              "      <td>NaN</td>\n",
              "      <td>NaN</td>\n",
              "      <td>IC50</td>\n",
              "      <td>uM</td>\n",
              "      <td>NaN</td>\n",
              "      <td>NaN</td>\n",
              "      <td>1.6050</td>\n",
              "    </tr>\n",
              "    <tr>\n",
              "      <th>682</th>\n",
              "      <td>NaN</td>\n",
              "      <td>22989348</td>\n",
              "      <td>[{'comments': None, 'relation': '=', 'result_f...</td>\n",
              "      <td>CHEMBL4774928</td>\n",
              "      <td>Inhibition of BCR-ABL T315I mutant (unknown or...</td>\n",
              "      <td>B</td>\n",
              "      <td>P00519</td>\n",
              "      <td>T315I</td>\n",
              "      <td>BAO_0000179</td>\n",
              "      <td>BAO_0000224</td>\n",
              "      <td>...</td>\n",
              "      <td>Homo sapiens</td>\n",
              "      <td>Bcr/Abl fusion protein</td>\n",
              "      <td>9606</td>\n",
              "      <td>NaN</td>\n",
              "      <td>NaN</td>\n",
              "      <td>IC50</td>\n",
              "      <td>uM</td>\n",
              "      <td>NaN</td>\n",
              "      <td>NaN</td>\n",
              "      <td>0.0557</td>\n",
              "    </tr>\n",
              "  </tbody>\n",
              "</table>\n",
              "<p>515 rows × 45 columns</p>\n",
              "</div>\n",
              "      <button class=\"colab-df-convert\" onclick=\"convertToInteractive('df-5ad4beb2-fa6e-4c94-8c03-3aa8c24eb644')\"\n",
              "              title=\"Convert this dataframe to an interactive table.\"\n",
              "              style=\"display:none;\">\n",
              "        \n",
              "  <svg xmlns=\"http://www.w3.org/2000/svg\" height=\"24px\"viewBox=\"0 0 24 24\"\n",
              "       width=\"24px\">\n",
              "    <path d=\"M0 0h24v24H0V0z\" fill=\"none\"/>\n",
              "    <path d=\"M18.56 5.44l.94 2.06.94-2.06 2.06-.94-2.06-.94-.94-2.06-.94 2.06-2.06.94zm-11 1L8.5 8.5l.94-2.06 2.06-.94-2.06-.94L8.5 2.5l-.94 2.06-2.06.94zm10 10l.94 2.06.94-2.06 2.06-.94-2.06-.94-.94-2.06-.94 2.06-2.06.94z\"/><path d=\"M17.41 7.96l-1.37-1.37c-.4-.4-.92-.59-1.43-.59-.52 0-1.04.2-1.43.59L10.3 9.45l-7.72 7.72c-.78.78-.78 2.05 0 2.83L4 21.41c.39.39.9.59 1.41.59.51 0 1.02-.2 1.41-.59l7.78-7.78 2.81-2.81c.8-.78.8-2.07 0-2.86zM5.41 20L4 18.59l7.72-7.72 1.47 1.35L5.41 20z\"/>\n",
              "  </svg>\n",
              "      </button>\n",
              "      \n",
              "  <style>\n",
              "    .colab-df-container {\n",
              "      display:flex;\n",
              "      flex-wrap:wrap;\n",
              "      gap: 12px;\n",
              "    }\n",
              "\n",
              "    .colab-df-convert {\n",
              "      background-color: #E8F0FE;\n",
              "      border: none;\n",
              "      border-radius: 50%;\n",
              "      cursor: pointer;\n",
              "      display: none;\n",
              "      fill: #1967D2;\n",
              "      height: 32px;\n",
              "      padding: 0 0 0 0;\n",
              "      width: 32px;\n",
              "    }\n",
              "\n",
              "    .colab-df-convert:hover {\n",
              "      background-color: #E2EBFA;\n",
              "      box-shadow: 0px 1px 2px rgba(60, 64, 67, 0.3), 0px 1px 3px 1px rgba(60, 64, 67, 0.15);\n",
              "      fill: #174EA6;\n",
              "    }\n",
              "\n",
              "    [theme=dark] .colab-df-convert {\n",
              "      background-color: #3B4455;\n",
              "      fill: #D2E3FC;\n",
              "    }\n",
              "\n",
              "    [theme=dark] .colab-df-convert:hover {\n",
              "      background-color: #434B5C;\n",
              "      box-shadow: 0px 1px 3px 1px rgba(0, 0, 0, 0.15);\n",
              "      filter: drop-shadow(0px 1px 2px rgba(0, 0, 0, 0.3));\n",
              "      fill: #FFFFFF;\n",
              "    }\n",
              "  </style>\n",
              "\n",
              "      <script>\n",
              "        const buttonEl =\n",
              "          document.querySelector('#df-5ad4beb2-fa6e-4c94-8c03-3aa8c24eb644 button.colab-df-convert');\n",
              "        buttonEl.style.display =\n",
              "          google.colab.kernel.accessAllowed ? 'block' : 'none';\n",
              "\n",
              "        async function convertToInteractive(key) {\n",
              "          const element = document.querySelector('#df-5ad4beb2-fa6e-4c94-8c03-3aa8c24eb644');\n",
              "          const dataTable =\n",
              "            await google.colab.kernel.invokeFunction('convertToInteractive',\n",
              "                                                     [key], {});\n",
              "          if (!dataTable) return;\n",
              "\n",
              "          const docLinkHtml = 'Like what you see? Visit the ' +\n",
              "            '<a target=\"_blank\" href=https://colab.research.google.com/notebooks/data_table.ipynb>data table notebook</a>'\n",
              "            + ' to learn more about interactive tables.';\n",
              "          element.innerHTML = '';\n",
              "          dataTable['output_type'] = 'display_data';\n",
              "          await google.colab.output.renderOutput(dataTable, element);\n",
              "          const docLink = document.createElement('div');\n",
              "          docLink.innerHTML = docLinkHtml;\n",
              "          element.appendChild(docLink);\n",
              "        }\n",
              "      </script>\n",
              "    </div>\n",
              "  </div>\n",
              "  "
            ]
          },
          "metadata": {},
          "execution_count": 22
        }
      ]
    },
    {
      "cell_type": "code",
      "source": [
        "df_non_miss.info()"
      ],
      "metadata": {
        "colab": {
          "base_uri": "https://localhost:8080/"
        },
        "id": "aDI3k5J1pFtH",
        "outputId": "335c38d5-43ec-496c-fe00-be336cbbbe66"
      },
      "execution_count": null,
      "outputs": [
        {
          "output_type": "stream",
          "name": "stdout",
          "text": [
            "<class 'pandas.core.frame.DataFrame'>\n",
            "Int64Index: 515 entries, 0 to 682\n",
            "Data columns (total 45 columns):\n",
            " #   Column                     Non-Null Count  Dtype  \n",
            "---  ------                     --------------  -----  \n",
            " 0   activity_comment           0 non-null      object \n",
            " 1   activity_id                515 non-null    int64  \n",
            " 2   activity_properties        515 non-null    object \n",
            " 3   assay_chembl_id            515 non-null    object \n",
            " 4   assay_description          515 non-null    object \n",
            " 5   assay_type                 515 non-null    object \n",
            " 6   assay_variant_accession    77 non-null     object \n",
            " 7   assay_variant_mutation     77 non-null     object \n",
            " 8   bao_endpoint               515 non-null    object \n",
            " 9   bao_format                 515 non-null    object \n",
            " 10  bao_label                  515 non-null    object \n",
            " 11  canonical_smiles           515 non-null    object \n",
            " 12  data_validity_comment      0 non-null      object \n",
            " 13  data_validity_description  0 non-null      object \n",
            " 14  document_chembl_id         515 non-null    object \n",
            " 15  document_journal           512 non-null    object \n",
            " 16  document_year              515 non-null    int64  \n",
            " 17  ligand_efficiency          492 non-null    object \n",
            " 18  molecule_chembl_id         515 non-null    object \n",
            " 19  molecule_pref_name         71 non-null     object \n",
            " 20  parent_molecule_chembl_id  515 non-null    object \n",
            " 21  pchembl_value              515 non-null    float64\n",
            " 22  potential_duplicate        515 non-null    int64  \n",
            " 23  qudt_units                 472 non-null    object \n",
            " 24  record_id                  515 non-null    int64  \n",
            " 25  relation                   515 non-null    object \n",
            " 26  src_id                     515 non-null    int64  \n",
            " 27  standard_flag              515 non-null    int64  \n",
            " 28  standard_relation          515 non-null    object \n",
            " 29  standard_text_value        0 non-null      float64\n",
            " 30  standard_type              515 non-null    object \n",
            " 31  standard_units             515 non-null    object \n",
            " 32  standard_upper_value       0 non-null      float64\n",
            " 33  standard_value             515 non-null    float64\n",
            " 34  target_chembl_id           515 non-null    object \n",
            " 35  target_organism            515 non-null    object \n",
            " 36  target_pref_name           515 non-null    object \n",
            " 37  target_tax_id              515 non-null    int64  \n",
            " 38  text_value                 0 non-null      float64\n",
            " 39  toid                       0 non-null      float64\n",
            " 40  type                       515 non-null    object \n",
            " 41  units                      446 non-null    object \n",
            " 42  uo_units                   472 non-null    object \n",
            " 43  upper_value                6 non-null      float64\n",
            " 44  value                      515 non-null    float64\n",
            "dtypes: float64(8), int64(7), object(30)\n",
            "memory usage: 185.1+ KB\n"
          ]
        }
      ]
    },
    {
      "cell_type": "code",
      "source": [
        "# Bar plot of Missing vs Non-Missing Data of pCHEMBL values\n",
        "\n",
        "# Data\n",
        "missing = df_non_miss.pchembl_value.isnull().sum()\n",
        "nonmissing = df_non_miss.pchembl_value.notnull().sum()\n",
        "\n",
        "x = ['Missing', 'Non-Missing']\n",
        "y = [missing, nonmissing]\n",
        "\n",
        "# Setup plot\n",
        "fig, ax = plt.subplots()\n",
        "\n",
        "# Make bar plot\n",
        "p = ax.bar(x, y, color = ['#F8766D', '#00BFC4'], ec = 'black')\n",
        "\n",
        "ax.set_title('BCR-ABL pChEMBL Missing & Non-missing Data', fontsize=14, fontweight='bold', pad=15)\n",
        "\n",
        "ax.set_ylim(0,700)\n",
        "plt.xticks(fontsize=14)\n",
        "plt.yticks(fontsize=14)\n",
        "\n",
        "# Label above bar\n",
        "for index, data in enumerate(y):\n",
        "    plt.text(x=index-0.1 , y =data+100 , s=f\"{data}\" , fontdict=dict(fontsize=14))\n",
        "\n",
        "fig.set_size_inches(5,4.5)\n",
        "plt.show()"
      ],
      "metadata": {
        "colab": {
          "base_uri": "https://localhost:8080/",
          "height": 323
        },
        "id": "oeOSXq0npZhe",
        "outputId": "a2ec1033-3a70-4fae-dcaa-f8dc8328ade0"
      },
      "execution_count": null,
      "outputs": [
        {
          "output_type": "display_data",
          "data": {
            "text/plain": [
              "<Figure size 360x324 with 1 Axes>"
            ],
            "image/png": "[encoded data removed]"
          },
          "metadata": {}
        }
      ]
    },
    {
      "cell_type": "code",
      "source": [
        "df1 = df_non_miss[[\"molecule_chembl_id\", \"canonical_smiles\", \"standard_type\", \"standard_relation\", \"pchembl_value\", \"standard_value\", \"standard_units\"]]"
      ],
      "metadata": {
        "id": "4GdWt9uJpg5u"
      },
      "execution_count": null,
      "outputs": []
    },
    {
      "cell_type": "code",
      "source": [
        "df1"
      ],
      "metadata": {
        "colab": {
          "base_uri": "https://localhost:8080/",
          "height": 424
        },
        "id": "seelmR-ipi3H",
        "outputId": "a5633676-db90-4f40-c3f5-4de4fa0c52cd"
      },
      "execution_count": null,
      "outputs": [
        {
          "output_type": "execute_result",
          "data": {
            "text/plain": [
              "    molecule_chembl_id                                   canonical_smiles  \\\n",
              "0         CHEMBL199723  CN1CCN(CCc2ccc(NC(=O)c3cc(-c4ccc5c(c4)OCO5)cnc...   \n",
              "2         CHEMBL381738  CN1CCN(CCCc2ccc(NC(=O)c3cc(-c4ccc5c(c4)OCO5)cn...   \n",
              "3         CHEMBL370800  CN1CCN(Cc2ccc(NC(=O)c3cc(-c4ccc5c(c4)OCO5)cnc3...   \n",
              "4         CHEMBL436509  CN1CCN(c2ccc(NC(=O)c3cc(-c4ccc5c(c4)OCO5)cnc3O...   \n",
              "9            CHEMBL165                     Oc1ccc(/C=C/c2cc(O)cc(O)c2)cc1   \n",
              "..                 ...                                                ...   \n",
              "677      CHEMBL4780226  CN1CCN(Cc2cc(NC(=O)c3cccc(C#Cc4cccc5[nH]nc(N)c...   \n",
              "678      CHEMBL4794284  Nc1n[nH]c2cccc(C#Cc3cccc(C(=O)Nc4cc(CN5CCOCC5)...   \n",
              "679      CHEMBL4786855  Nc1n[nH]c2cccc(C#Cc3cccc(C(=O)Nc4ccc(Cl)c(C(F)...   \n",
              "680      CHEMBL4776468  Nc1n[nH]c2cccc(C#Cc3cccc(C(=O)Nc4ccc(CN5CCOCC5...   \n",
              "682       CHEMBL388978  CN[C@@H]1C[C@H]2O[C@@](C)([C@@H]1OC)n1c3ccccc3...   \n",
              "\n",
              "    standard_type standard_relation  pchembl_value  standard_value  \\\n",
              "0            IC50                 =           5.02          9500.0   \n",
              "2            IC50                 =           4.84         14600.0   \n",
              "3            IC50                 =           4.89         12900.0   \n",
              "4            IC50                 =           5.42          3800.0   \n",
              "9            IC50                 =           4.55         28000.0   \n",
              "..            ...               ...            ...             ...   \n",
              "677          IC50                 =           5.79          1635.0   \n",
              "678          IC50                 =           5.60          2510.0   \n",
              "679          IC50                 =           5.85          1420.0   \n",
              "680          IC50                 =           5.79          1605.0   \n",
              "682          IC50                 =           7.25            55.7   \n",
              "\n",
              "    standard_units  \n",
              "0               nM  \n",
              "2               nM  \n",
              "3               nM  \n",
              "4               nM  \n",
              "9               nM  \n",
              "..             ...  \n",
              "677             nM  \n",
              "678             nM  \n",
              "679             nM  \n",
              "680             nM  \n",
              "682             nM  \n",
              "\n",
              "[515 rows x 7 columns]"
            ],
            "text/html": [
              "\n",
              "  <div id=\"df-5264166e-8c61-4b41-8490-62ad2faf2075\">\n",
              "    <div class=\"colab-df-container\">\n",
              "      <div>\n",
              "<style scoped>\n",
              "    .dataframe tbody tr th:only-of-type {\n",
              "        vertical-align: middle;\n",
              "    }\n",
              "\n",
              "    .dataframe tbody tr th {\n",
              "        vertical-align: top;\n",
              "    }\n",
              "\n",
              "    .dataframe thead th {\n",
              "        text-align: right;\n",
              "    }\n",
              "</style>\n",
              "<table border=\"1\" class=\"dataframe\">\n",
              "  <thead>\n",
              "    <tr style=\"text-align: right;\">\n",
              "      <th></th>\n",
              "      <th>molecule_chembl_id</th>\n",
              "      <th>canonical_smiles</th>\n",
              "      <th>standard_type</th>\n",
              "      <th>standard_relation</th>\n",
              "      <th>pchembl_value</th>\n",
              "      <th>standard_value</th>\n",
              "      <th>standard_units</th>\n",
              "    </tr>\n",
              "  </thead>\n",
              "  <tbody>\n",
              "    <tr>\n",
              "      <th>0</th>\n",
              "      <td>CHEMBL199723</td>\n",
              "      <td>CN1CCN(CCc2ccc(NC(=O)c3cc(-c4ccc5c(c4)OCO5)cnc...</td>\n",
              "      <td>IC50</td>\n",
              "      <td>=</td>\n",
              "      <td>5.02</td>\n",
              "      <td>9500.0</td>\n",
              "      <td>nM</td>\n",
              "    </tr>\n",
              "    <tr>\n",
              "      <th>2</th>\n",
              "      <td>CHEMBL381738</td>\n",
              "      <td>CN1CCN(CCCc2ccc(NC(=O)c3cc(-c4ccc5c(c4)OCO5)cn...</td>\n",
              "      <td>IC50</td>\n",
              "      <td>=</td>\n",
              "      <td>4.84</td>\n",
              "      <td>14600.0</td>\n",
              "      <td>nM</td>\n",
              "    </tr>\n",
              "    <tr>\n",
              "      <th>3</th>\n",
              "      <td>CHEMBL370800</td>\n",
              "      <td>CN1CCN(Cc2ccc(NC(=O)c3cc(-c4ccc5c(c4)OCO5)cnc3...</td>\n",
              "      <td>IC50</td>\n",
              "      <td>=</td>\n",
              "      <td>4.89</td>\n",
              "      <td>12900.0</td>\n",
              "      <td>nM</td>\n",
              "    </tr>\n",
              "    <tr>\n",
              "      <th>4</th>\n",
              "      <td>CHEMBL436509</td>\n",
              "      <td>CN1CCN(c2ccc(NC(=O)c3cc(-c4ccc5c(c4)OCO5)cnc3O...</td>\n",
              "      <td>IC50</td>\n",
              "      <td>=</td>\n",
              "      <td>5.42</td>\n",
              "      <td>3800.0</td>\n",
              "      <td>nM</td>\n",
              "    </tr>\n",
              "    <tr>\n",
              "      <th>9</th>\n",
              "      <td>CHEMBL165</td>\n",
              "      <td>Oc1ccc(/C=C/c2cc(O)cc(O)c2)cc1</td>\n",
              "      <td>IC50</td>\n",
              "      <td>=</td>\n",
              "      <td>4.55</td>\n",
              "      <td>28000.0</td>\n",
              "      <td>nM</td>\n",
              "    </tr>\n",
              "    <tr>\n",
              "      <th>...</th>\n",
              "      <td>...</td>\n",
              "      <td>...</td>\n",
              "      <td>...</td>\n",
              "      <td>...</td>\n",
              "      <td>...</td>\n",
              "      <td>...</td>\n",
              "      <td>...</td>\n",
              "    </tr>\n",
              "    <tr>\n",
              "      <th>677</th>\n",
              "      <td>CHEMBL4780226</td>\n",
              "      <td>CN1CCN(Cc2cc(NC(=O)c3cccc(C#Cc4cccc5[nH]nc(N)c...</td>\n",
              "      <td>IC50</td>\n",
              "      <td>=</td>\n",
              "      <td>5.79</td>\n",
              "      <td>1635.0</td>\n",
              "      <td>nM</td>\n",
              "    </tr>\n",
              "    <tr>\n",
              "      <th>678</th>\n",
              "      <td>CHEMBL4794284</td>\n",
              "      <td>Nc1n[nH]c2cccc(C#Cc3cccc(C(=O)Nc4cc(CN5CCOCC5)...</td>\n",
              "      <td>IC50</td>\n",
              "      <td>=</td>\n",
              "      <td>5.60</td>\n",
              "      <td>2510.0</td>\n",
              "      <td>nM</td>\n",
              "    </tr>\n",
              "    <tr>\n",
              "      <th>679</th>\n",
              "      <td>CHEMBL4786855</td>\n",
              "      <td>Nc1n[nH]c2cccc(C#Cc3cccc(C(=O)Nc4ccc(Cl)c(C(F)...</td>\n",
              "      <td>IC50</td>\n",
              "      <td>=</td>\n",
              "      <td>5.85</td>\n",
              "      <td>1420.0</td>\n",
              "      <td>nM</td>\n",
              "    </tr>\n",
              "    <tr>\n",
              "      <th>680</th>\n",
              "      <td>CHEMBL4776468</td>\n",
              "      <td>Nc1n[nH]c2cccc(C#Cc3cccc(C(=O)Nc4ccc(CN5CCOCC5...</td>\n",
              "      <td>IC50</td>\n",
              "      <td>=</td>\n",
              "      <td>5.79</td>\n",
              "      <td>1605.0</td>\n",
              "      <td>nM</td>\n",
              "    </tr>\n",
              "    <tr>\n",
              "      <th>682</th>\n",
              "      <td>CHEMBL388978</td>\n",
              "      <td>CN[C@@H]1C[C@H]2O[C@@](C)([C@@H]1OC)n1c3ccccc3...</td>\n",
              "      <td>IC50</td>\n",
              "      <td>=</td>\n",
              "      <td>7.25</td>\n",
              "      <td>55.7</td>\n",
              "      <td>nM</td>\n",
              "    </tr>\n",
              "  </tbody>\n",
              "</table>\n",
              "<p>515 rows × 7 columns</p>\n",
              "</div>\n",
              "      <button class=\"colab-df-convert\" onclick=\"convertToInteractive('df-5264166e-8c61-4b41-8490-62ad2faf2075')\"\n",
              "              title=\"Convert this dataframe to an interactive table.\"\n",
              "              style=\"display:none;\">\n",
              "        \n",
              "  <svg xmlns=\"http://www.w3.org/2000/svg\" height=\"24px\"viewBox=\"0 0 24 24\"\n",
              "       width=\"24px\">\n",
              "    <path d=\"M0 0h24v24H0V0z\" fill=\"none\"/>\n",
              "    <path d=\"M18.56 5.44l.94 2.06.94-2.06 2.06-.94-2.06-.94-.94-2.06-.94 2.06-2.06.94zm-11 1L8.5 8.5l.94-2.06 2.06-.94-2.06-.94L8.5 2.5l-.94 2.06-2.06.94zm10 10l.94 2.06.94-2.06 2.06-.94-2.06-.94-.94-2.06-.94 2.06-2.06.94z\"/><path d=\"M17.41 7.96l-1.37-1.37c-.4-.4-.92-.59-1.43-.59-.52 0-1.04.2-1.43.59L10.3 9.45l-7.72 7.72c-.78.78-.78 2.05 0 2.83L4 21.41c.39.39.9.59 1.41.59.51 0 1.02-.2 1.41-.59l7.78-7.78 2.81-2.81c.8-.78.8-2.07 0-2.86zM5.41 20L4 18.59l7.72-7.72 1.47 1.35L5.41 20z\"/>\n",
              "  </svg>\n",
              "      </button>\n",
              "      \n",
              "  <style>\n",
              "    .colab-df-container {\n",
              "      display:flex;\n",
              "      flex-wrap:wrap;\n",
              "      gap: 12px;\n",
              "    }\n",
              "\n",
              "    .colab-df-convert {\n",
              "      background-color: #E8F0FE;\n",
              "      border: none;\n",
              "      border-radius: 50%;\n",
              "      cursor: pointer;\n",
              "      display: none;\n",
              "      fill: #1967D2;\n",
              "      height: 32px;\n",
              "      padding: 0 0 0 0;\n",
              "      width: 32px;\n",
              "    }\n",
              "\n",
              "    .colab-df-convert:hover {\n",
              "      background-color: #E2EBFA;\n",
              "      box-shadow: 0px 1px 2px rgba(60, 64, 67, 0.3), 0px 1px 3px 1px rgba(60, 64, 67, 0.15);\n",
              "      fill: #174EA6;\n",
              "    }\n",
              "\n",
              "    [theme=dark] .colab-df-convert {\n",
              "      background-color: #3B4455;\n",
              "      fill: #D2E3FC;\n",
              "    }\n",
              "\n",
              "    [theme=dark] .colab-df-convert:hover {\n",
              "      background-color: #434B5C;\n",
              "      box-shadow: 0px 1px 3px 1px rgba(0, 0, 0, 0.15);\n",
              "      filter: drop-shadow(0px 1px 2px rgba(0, 0, 0, 0.3));\n",
              "      fill: #FFFFFF;\n",
              "    }\n",
              "  </style>\n",
              "\n",
              "      <script>\n",
              "        const buttonEl =\n",
              "          document.querySelector('#df-5264166e-8c61-4b41-8490-62ad2faf2075 button.colab-df-convert');\n",
              "        buttonEl.style.display =\n",
              "          google.colab.kernel.accessAllowed ? 'block' : 'none';\n",
              "\n",
              "        async function convertToInteractive(key) {\n",
              "          const element = document.querySelector('#df-5264166e-8c61-4b41-8490-62ad2faf2075');\n",
              "          const dataTable =\n",
              "            await google.colab.kernel.invokeFunction('convertToInteractive',\n",
              "                                                     [key], {});\n",
              "          if (!dataTable) return;\n",
              "\n",
              "          const docLinkHtml = 'Like what you see? Visit the ' +\n",
              "            '<a target=\"_blank\" href=https://colab.research.google.com/notebooks/data_table.ipynb>data table notebook</a>'\n",
              "            + ' to learn more about interactive tables.';\n",
              "          element.innerHTML = '';\n",
              "          dataTable['output_type'] = 'display_data';\n",
              "          await google.colab.output.renderOutput(dataTable, element);\n",
              "          const docLink = document.createElement('div');\n",
              "          docLink.innerHTML = docLinkHtml;\n",
              "          element.appendChild(docLink);\n",
              "        }\n",
              "      </script>\n",
              "    </div>\n",
              "  </div>\n",
              "  "
            ]
          },
          "metadata": {},
          "execution_count": 26
        }
      ]
    },
    {
      "cell_type": "code",
      "source": [
        "df1[\"standard_units\"].unique()"
      ],
      "metadata": {
        "colab": {
          "base_uri": "https://localhost:8080/"
        },
        "id": "g6WVNfT_rcmX",
        "outputId": "a06eeb62-22af-41fa-8cec-400ffa751b26"
      },
      "execution_count": null,
      "outputs": [
        {
          "output_type": "execute_result",
          "data": {
            "text/plain": [
              "array(['nM'], dtype=object)"
            ]
          },
          "metadata": {},
          "execution_count": 27
        }
      ]
    },
    {
      "cell_type": "code",
      "source": [
        "df1[\"standard_units\"].value_counts()"
      ],
      "metadata": {
        "colab": {
          "base_uri": "https://localhost:8080/"
        },
        "id": "Ja8154ERriZO",
        "outputId": "c0fb0816-0b70-4aa0-91ac-3256a3bce6c8"
      },
      "execution_count": null,
      "outputs": [
        {
          "output_type": "execute_result",
          "data": {
            "text/plain": [
              "nM    515\n",
              "Name: standard_units, dtype: int64"
            ]
          },
          "metadata": {},
          "execution_count": 28
        }
      ]
    },
    {
      "cell_type": "code",
      "source": [
        "df1.dtypes"
      ],
      "metadata": {
        "colab": {
          "base_uri": "https://localhost:8080/"
        },
        "id": "7V_ZkHK8rpuv",
        "outputId": "51ca40c6-7b2b-43f7-a94e-1051d6010d8a"
      },
      "execution_count": null,
      "outputs": [
        {
          "output_type": "execute_result",
          "data": {
            "text/plain": [
              "molecule_chembl_id     object\n",
              "canonical_smiles       object\n",
              "standard_type          object\n",
              "standard_relation      object\n",
              "pchembl_value         float64\n",
              "standard_value        float64\n",
              "standard_units         object\n",
              "dtype: object"
            ]
          },
          "metadata": {},
          "execution_count": 29
        }
      ]
    },
    {
      "cell_type": "code",
      "source": [
        "df2 = df1.astype({\"standard_value\": \"float64\", \"pchembl_value\": \"float64\"})"
      ],
      "metadata": {
        "id": "hPwATPwOrtXF"
      },
      "execution_count": null,
      "outputs": []
    },
    {
      "cell_type": "code",
      "source": [
        "df2.dtypes"
      ],
      "metadata": {
        "colab": {
          "base_uri": "https://localhost:8080/"
        },
        "id": "B0N2uJWWrxB2",
        "outputId": "be8e456c-2c76-4930-af8c-e341b40f8c48"
      },
      "execution_count": null,
      "outputs": [
        {
          "output_type": "execute_result",
          "data": {
            "text/plain": [
              "molecule_chembl_id     object\n",
              "canonical_smiles       object\n",
              "standard_type          object\n",
              "standard_relation      object\n",
              "pchembl_value         float64\n",
              "standard_value        float64\n",
              "standard_units         object\n",
              "dtype: object"
            ]
          },
          "metadata": {},
          "execution_count": 30
        }
      ]
    },
    {
      "cell_type": "code",
      "source": [
        "df2.dropna(axis=0, how=\"any\", inplace=True)\n",
        "print(f\"DataFrame shape: {df2.shape}\")"
      ],
      "metadata": {
        "colab": {
          "base_uri": "https://localhost:8080/"
        },
        "id": "-HEHN4Q8r84B",
        "outputId": "c7880ddb-cc52-4d41-fb8f-db754416dd66"
      },
      "execution_count": null,
      "outputs": [
        {
          "output_type": "stream",
          "name": "stdout",
          "text": [
            "DataFrame shape: (515, 7)\n"
          ]
        }
      ]
    },
    {
      "cell_type": "code",
      "source": [
        "print(f\"Units in downloaded data: {df2['standard_units'].unique()}\")\n",
        "print(\n",
        "    f\"Number of non-nM entries:\\\n",
        "    {df2[df2['standard_units'] != 'nM'].shape[0]}\"\n",
        ")"
      ],
      "metadata": {
        "colab": {
          "base_uri": "https://localhost:8080/"
        },
        "id": "sw6G_PLXsBrH",
        "outputId": "b5a55e8d-07b7-441f-bfa9-9e1ed4d77b22"
      },
      "execution_count": null,
      "outputs": [
        {
          "output_type": "stream",
          "name": "stdout",
          "text": [
            "Units in downloaded data: ['nM']\n",
            "Number of non-nM entries:    0\n"
          ]
        }
      ]
    },
    {
      "cell_type": "code",
      "source": [
        "df3 = df2[df2[\"standard_units\"] == \"nM\"]\n",
        "print(f\"Units after filtering: {df2['standard_units'].unique()}\")"
      ],
      "metadata": {
        "colab": {
          "base_uri": "https://localhost:8080/"
        },
        "id": "y2kouWiKsIDv",
        "outputId": "3819b3bb-d5cc-4259-d441-f3743118305d"
      },
      "execution_count": null,
      "outputs": [
        {
          "output_type": "stream",
          "name": "stdout",
          "text": [
            "Units after filtering: ['nM']\n"
          ]
        }
      ]
    },
    {
      "cell_type": "code",
      "source": [
        "df3.shape"
      ],
      "metadata": {
        "colab": {
          "base_uri": "https://localhost:8080/"
        },
        "id": "pb1fB1HisMUW",
        "outputId": "40ac6d63-d3fe-4d4f-af7c-edfaf6413983"
      },
      "execution_count": null,
      "outputs": [
        {
          "output_type": "execute_result",
          "data": {
            "text/plain": [
              "(515, 7)"
            ]
          },
          "metadata": {},
          "execution_count": 34
        }
      ]
    },
    {
      "cell_type": "code",
      "source": [
        "df4 = df3.copy(deep =True)"
      ],
      "metadata": {
        "id": "lWyePhhUzpYQ"
      },
      "execution_count": null,
      "outputs": []
    },
    {
      "cell_type": "code",
      "source": [
        "# Verify duplicated molecules by ChEMBL ID\n",
        "print('Number of unique ChEMBL ID:', str(len(df3.molecule_chembl_id.unique())))\n",
        "print('Total number of ChEMBL ID: ', str(len(df_raw)))"
      ],
      "metadata": {
        "colab": {
          "base_uri": "https://localhost:8080/"
        },
        "id": "tmxozUvlsRr2",
        "outputId": "4220b7b9-252d-4fd6-862c-dee3d3bf7857"
      },
      "execution_count": null,
      "outputs": [
        {
          "output_type": "stream",
          "name": "stdout",
          "text": [
            "Number of unique ChEMBL ID: 398\n",
            "Total number of ChEMBL ID:  683\n"
          ]
        }
      ]
    },
    {
      "cell_type": "code",
      "source": [
        "df4.drop_duplicates(\"molecule_chembl_id\", keep=\"first\", inplace=True)\n",
        "print(f\"DataFrame shape: {df4.shape}\")"
      ],
      "metadata": {
        "colab": {
          "base_uri": "https://localhost:8080/"
        },
        "id": "lwZ_byTxssJP",
        "outputId": "e9f4771c-ea97-431e-8fa8-ba575c96e168"
      },
      "execution_count": null,
      "outputs": [
        {
          "output_type": "stream",
          "name": "stdout",
          "text": [
            "DataFrame shape: (398, 7)\n"
          ]
        }
      ]
    },
    {
      "cell_type": "code",
      "source": [
        "df4"
      ],
      "metadata": {
        "colab": {
          "base_uri": "https://localhost:8080/",
          "height": 423
        },
        "id": "A8J7_A8KuR6H",
        "outputId": "464c5413-302b-4960-d470-7c05f5a997b6"
      },
      "execution_count": null,
      "outputs": [
        {
          "output_type": "execute_result",
          "data": {
            "text/plain": [
              "    molecule_chembl_id                                   canonical_smiles  \\\n",
              "0         CHEMBL199723  CN1CCN(CCc2ccc(NC(=O)c3cc(-c4ccc5c(c4)OCO5)cnc...   \n",
              "2         CHEMBL381738  CN1CCN(CCCc2ccc(NC(=O)c3cc(-c4ccc5c(c4)OCO5)cn...   \n",
              "3         CHEMBL370800  CN1CCN(Cc2ccc(NC(=O)c3cc(-c4ccc5c(c4)OCO5)cnc3...   \n",
              "4         CHEMBL436509  CN1CCN(c2ccc(NC(=O)c3cc(-c4ccc5c(c4)OCO5)cnc3O...   \n",
              "9            CHEMBL165                     Oc1ccc(/C=C/c2cc(O)cc(O)c2)cc1   \n",
              "..                 ...                                                ...   \n",
              "659      CHEMBL4794093  Cc1cn(-c2cc(NC(=O)c3cccc(C#Cc4cccc5[nH]nc(N)c4...   \n",
              "660      CHEMBL4780226  CN1CCN(Cc2cc(NC(=O)c3cccc(C#Cc4cccc5[nH]nc(N)c...   \n",
              "661      CHEMBL4794284  Nc1n[nH]c2cccc(C#Cc3cccc(C(=O)Nc4cc(CN5CCOCC5)...   \n",
              "662      CHEMBL4786855  Nc1n[nH]c2cccc(C#Cc3cccc(C(=O)Nc4ccc(Cl)c(C(F)...   \n",
              "663      CHEMBL4776468  Nc1n[nH]c2cccc(C#Cc3cccc(C(=O)Nc4ccc(CN5CCOCC5...   \n",
              "\n",
              "    standard_type standard_relation  pchembl_value  standard_value  \\\n",
              "0            IC50                 =           5.02          9500.0   \n",
              "2            IC50                 =           4.84         14600.0   \n",
              "3            IC50                 =           4.89         12900.0   \n",
              "4            IC50                 =           5.42          3800.0   \n",
              "9            IC50                 =           4.55         28000.0   \n",
              "..            ...               ...            ...             ...   \n",
              "659          IC50                 =           7.59            25.8   \n",
              "660          IC50                 =           7.25            56.7   \n",
              "661          IC50                 =           6.24           571.0   \n",
              "662          IC50                 =           6.59           255.0   \n",
              "663          IC50                 =           6.71           194.5   \n",
              "\n",
              "    standard_units  \n",
              "0               nM  \n",
              "2               nM  \n",
              "3               nM  \n",
              "4               nM  \n",
              "9               nM  \n",
              "..             ...  \n",
              "659             nM  \n",
              "660             nM  \n",
              "661             nM  \n",
              "662             nM  \n",
              "663             nM  \n",
              "\n",
              "[398 rows x 7 columns]"
            ],
            "text/html": [
              "\n",
              "  <div id=\"df-7cec5472-0901-4636-aabd-6dfcd8e2e730\">\n",
              "    <div class=\"colab-df-container\">\n",
              "      <div>\n",
              "<style scoped>\n",
              "    .dataframe tbody tr th:only-of-type {\n",
              "        vertical-align: middle;\n",
              "    }\n",
              "\n",
              "    .dataframe tbody tr th {\n",
              "        vertical-align: top;\n",
              "    }\n",
              "\n",
              "    .dataframe thead th {\n",
              "        text-align: right;\n",
              "    }\n",
              "</style>\n",
              "<table border=\"1\" class=\"dataframe\">\n",
              "  <thead>\n",
              "    <tr style=\"text-align: right;\">\n",
              "      <th></th>\n",
              "      <th>molecule_chembl_id</th>\n",
              "      <th>canonical_smiles</th>\n",
              "      <th>standard_type</th>\n",
              "      <th>standard_relation</th>\n",
              "      <th>pchembl_value</th>\n",
              "      <th>standard_value</th>\n",
              "      <th>standard_units</th>\n",
              "    </tr>\n",
              "  </thead>\n",
              "  <tbody>\n",
              "    <tr>\n",
              "      <th>0</th>\n",
              "      <td>CHEMBL199723</td>\n",
              "      <td>CN1CCN(CCc2ccc(NC(=O)c3cc(-c4ccc5c(c4)OCO5)cnc...</td>\n",
              "      <td>IC50</td>\n",
              "      <td>=</td>\n",
              "      <td>5.02</td>\n",
              "      <td>9500.0</td>\n",
              "      <td>nM</td>\n",
              "    </tr>\n",
              "    <tr>\n",
              "      <th>2</th>\n",
              "      <td>CHEMBL381738</td>\n",
              "      <td>CN1CCN(CCCc2ccc(NC(=O)c3cc(-c4ccc5c(c4)OCO5)cn...</td>\n",
              "      <td>IC50</td>\n",
              "      <td>=</td>\n",
              "      <td>4.84</td>\n",
              "      <td>14600.0</td>\n",
              "      <td>nM</td>\n",
              "    </tr>\n",
              "    <tr>\n",
              "      <th>3</th>\n",
              "      <td>CHEMBL370800</td>\n",
              "      <td>CN1CCN(Cc2ccc(NC(=O)c3cc(-c4ccc5c(c4)OCO5)cnc3...</td>\n",
              "      <td>IC50</td>\n",
              "      <td>=</td>\n",
              "      <td>4.89</td>\n",
              "      <td>12900.0</td>\n",
              "      <td>nM</td>\n",
              "    </tr>\n",
              "    <tr>\n",
              "      <th>4</th>\n",
              "      <td>CHEMBL436509</td>\n",
              "      <td>CN1CCN(c2ccc(NC(=O)c3cc(-c4ccc5c(c4)OCO5)cnc3O...</td>\n",
              "      <td>IC50</td>\n",
              "      <td>=</td>\n",
              "      <td>5.42</td>\n",
              "      <td>3800.0</td>\n",
              "      <td>nM</td>\n",
              "    </tr>\n",
              "    <tr>\n",
              "      <th>9</th>\n",
              "      <td>CHEMBL165</td>\n",
              "      <td>Oc1ccc(/C=C/c2cc(O)cc(O)c2)cc1</td>\n",
              "      <td>IC50</td>\n",
              "      <td>=</td>\n",
              "      <td>4.55</td>\n",
              "      <td>28000.0</td>\n",
              "      <td>nM</td>\n",
              "    </tr>\n",
              "    <tr>\n",
              "      <th>...</th>\n",
              "      <td>...</td>\n",
              "      <td>...</td>\n",
              "      <td>...</td>\n",
              "      <td>...</td>\n",
              "      <td>...</td>\n",
              "      <td>...</td>\n",
              "      <td>...</td>\n",
              "    </tr>\n",
              "    <tr>\n",
              "      <th>659</th>\n",
              "      <td>CHEMBL4794093</td>\n",
              "      <td>Cc1cn(-c2cc(NC(=O)c3cccc(C#Cc4cccc5[nH]nc(N)c4...</td>\n",
              "      <td>IC50</td>\n",
              "      <td>=</td>\n",
              "      <td>7.59</td>\n",
              "      <td>25.8</td>\n",
              "      <td>nM</td>\n",
              "    </tr>\n",
              "    <tr>\n",
              "      <th>660</th>\n",
              "      <td>CHEMBL4780226</td>\n",
              "      <td>CN1CCN(Cc2cc(NC(=O)c3cccc(C#Cc4cccc5[nH]nc(N)c...</td>\n",
              "      <td>IC50</td>\n",
              "      <td>=</td>\n",
              "      <td>7.25</td>\n",
              "      <td>56.7</td>\n",
              "      <td>nM</td>\n",
              "    </tr>\n",
              "    <tr>\n",
              "      <th>661</th>\n",
              "      <td>CHEMBL4794284</td>\n",
              "      <td>Nc1n[nH]c2cccc(C#Cc3cccc(C(=O)Nc4cc(CN5CCOCC5)...</td>\n",
              "      <td>IC50</td>\n",
              "      <td>=</td>\n",
              "      <td>6.24</td>\n",
              "      <td>571.0</td>\n",
              "      <td>nM</td>\n",
              "    </tr>\n",
              "    <tr>\n",
              "      <th>662</th>\n",
              "      <td>CHEMBL4786855</td>\n",
              "      <td>Nc1n[nH]c2cccc(C#Cc3cccc(C(=O)Nc4ccc(Cl)c(C(F)...</td>\n",
              "      <td>IC50</td>\n",
              "      <td>=</td>\n",
              "      <td>6.59</td>\n",
              "      <td>255.0</td>\n",
              "      <td>nM</td>\n",
              "    </tr>\n",
              "    <tr>\n",
              "      <th>663</th>\n",
              "      <td>CHEMBL4776468</td>\n",
              "      <td>Nc1n[nH]c2cccc(C#Cc3cccc(C(=O)Nc4ccc(CN5CCOCC5...</td>\n",
              "      <td>IC50</td>\n",
              "      <td>=</td>\n",
              "      <td>6.71</td>\n",
              "      <td>194.5</td>\n",
              "      <td>nM</td>\n",
              "    </tr>\n",
              "  </tbody>\n",
              "</table>\n",
              "<p>398 rows × 7 columns</p>\n",
              "</div>\n",
              "      <button class=\"colab-df-convert\" onclick=\"convertToInteractive('df-7cec5472-0901-4636-aabd-6dfcd8e2e730')\"\n",
              "              title=\"Convert this dataframe to an interactive table.\"\n",
              "              style=\"display:none;\">\n",
              "        \n",
              "  <svg xmlns=\"http://www.w3.org/2000/svg\" height=\"24px\"viewBox=\"0 0 24 24\"\n",
              "       width=\"24px\">\n",
              "    <path d=\"M0 0h24v24H0V0z\" fill=\"none\"/>\n",
              "    <path d=\"M18.56 5.44l.94 2.06.94-2.06 2.06-.94-2.06-.94-.94-2.06-.94 2.06-2.06.94zm-11 1L8.5 8.5l.94-2.06 2.06-.94-2.06-.94L8.5 2.5l-.94 2.06-2.06.94zm10 10l.94 2.06.94-2.06 2.06-.94-2.06-.94-.94-2.06-.94 2.06-2.06.94z\"/><path d=\"M17.41 7.96l-1.37-1.37c-.4-.4-.92-.59-1.43-.59-.52 0-1.04.2-1.43.59L10.3 9.45l-7.72 7.72c-.78.78-.78 2.05 0 2.83L4 21.41c.39.39.9.59 1.41.59.51 0 1.02-.2 1.41-.59l7.78-7.78 2.81-2.81c.8-.78.8-2.07 0-2.86zM5.41 20L4 18.59l7.72-7.72 1.47 1.35L5.41 20z\"/>\n",
              "  </svg>\n",
              "      </button>\n",
              "      \n",
              "  <style>\n",
              "    .colab-df-container {\n",
              "      display:flex;\n",
              "      flex-wrap:wrap;\n",
              "      gap: 12px;\n",
              "    }\n",
              "\n",
              "    .colab-df-convert {\n",
              "      background-color: #E8F0FE;\n",
              "      border: none;\n",
              "      border-radius: 50%;\n",
              "      cursor: pointer;\n",
              "      display: none;\n",
              "      fill: #1967D2;\n",
              "      height: 32px;\n",
              "      padding: 0 0 0 0;\n",
              "      width: 32px;\n",
              "    }\n",
              "\n",
              "    .colab-df-convert:hover {\n",
              "      background-color: #E2EBFA;\n",
              "      box-shadow: 0px 1px 2px rgba(60, 64, 67, 0.3), 0px 1px 3px 1px rgba(60, 64, 67, 0.15);\n",
              "      fill: #174EA6;\n",
              "    }\n",
              "\n",
              "    [theme=dark] .colab-df-convert {\n",
              "      background-color: #3B4455;\n",
              "      fill: #D2E3FC;\n",
              "    }\n",
              "\n",
              "    [theme=dark] .colab-df-convert:hover {\n",
              "      background-color: #434B5C;\n",
              "      box-shadow: 0px 1px 3px 1px rgba(0, 0, 0, 0.15);\n",
              "      filter: drop-shadow(0px 1px 2px rgba(0, 0, 0, 0.3));\n",
              "      fill: #FFFFFF;\n",
              "    }\n",
              "  </style>\n",
              "\n",
              "      <script>\n",
              "        const buttonEl =\n",
              "          document.querySelector('#df-7cec5472-0901-4636-aabd-6dfcd8e2e730 button.colab-df-convert');\n",
              "        buttonEl.style.display =\n",
              "          google.colab.kernel.accessAllowed ? 'block' : 'none';\n",
              "\n",
              "        async function convertToInteractive(key) {\n",
              "          const element = document.querySelector('#df-7cec5472-0901-4636-aabd-6dfcd8e2e730');\n",
              "          const dataTable =\n",
              "            await google.colab.kernel.invokeFunction('convertToInteractive',\n",
              "                                                     [key], {});\n",
              "          if (!dataTable) return;\n",
              "\n",
              "          const docLinkHtml = 'Like what you see? Visit the ' +\n",
              "            '<a target=\"_blank\" href=https://colab.research.google.com/notebooks/data_table.ipynb>data table notebook</a>'\n",
              "            + ' to learn more about interactive tables.';\n",
              "          element.innerHTML = '';\n",
              "          dataTable['output_type'] = 'display_data';\n",
              "          await google.colab.output.renderOutput(dataTable, element);\n",
              "          const docLink = document.createElement('div');\n",
              "          docLink.innerHTML = docLinkHtml;\n",
              "          element.appendChild(docLink);\n",
              "        }\n",
              "      </script>\n",
              "    </div>\n",
              "  </div>\n",
              "  "
            ]
          },
          "metadata": {},
          "execution_count": 38
        }
      ]
    },
    {
      "cell_type": "code",
      "source": [
        "df4.reset_index(drop=True, inplace=True)\n",
        "df4"
      ],
      "metadata": {
        "colab": {
          "base_uri": "https://localhost:8080/",
          "height": 423
        },
        "id": "BNQWxFV20iSu",
        "outputId": "3f3617da-5c8d-4c5f-e787-182f42460da9"
      },
      "execution_count": null,
      "outputs": [
        {
          "output_type": "execute_result",
          "data": {
            "text/plain": [
              "    molecule_chembl_id                                   canonical_smiles  \\\n",
              "0         CHEMBL199723  CN1CCN(CCc2ccc(NC(=O)c3cc(-c4ccc5c(c4)OCO5)cnc...   \n",
              "1         CHEMBL381738  CN1CCN(CCCc2ccc(NC(=O)c3cc(-c4ccc5c(c4)OCO5)cn...   \n",
              "2         CHEMBL370800  CN1CCN(Cc2ccc(NC(=O)c3cc(-c4ccc5c(c4)OCO5)cnc3...   \n",
              "3         CHEMBL436509  CN1CCN(c2ccc(NC(=O)c3cc(-c4ccc5c(c4)OCO5)cnc3O...   \n",
              "4            CHEMBL165                     Oc1ccc(/C=C/c2cc(O)cc(O)c2)cc1   \n",
              "..                 ...                                                ...   \n",
              "393      CHEMBL4794093  Cc1cn(-c2cc(NC(=O)c3cccc(C#Cc4cccc5[nH]nc(N)c4...   \n",
              "394      CHEMBL4780226  CN1CCN(Cc2cc(NC(=O)c3cccc(C#Cc4cccc5[nH]nc(N)c...   \n",
              "395      CHEMBL4794284  Nc1n[nH]c2cccc(C#Cc3cccc(C(=O)Nc4cc(CN5CCOCC5)...   \n",
              "396      CHEMBL4786855  Nc1n[nH]c2cccc(C#Cc3cccc(C(=O)Nc4ccc(Cl)c(C(F)...   \n",
              "397      CHEMBL4776468  Nc1n[nH]c2cccc(C#Cc3cccc(C(=O)Nc4ccc(CN5CCOCC5...   \n",
              "\n",
              "    standard_type standard_relation  pchembl_value  standard_value  \\\n",
              "0            IC50                 =           5.02          9500.0   \n",
              "1            IC50                 =           4.84         14600.0   \n",
              "2            IC50                 =           4.89         12900.0   \n",
              "3            IC50                 =           5.42          3800.0   \n",
              "4            IC50                 =           4.55         28000.0   \n",
              "..            ...               ...            ...             ...   \n",
              "393          IC50                 =           7.59            25.8   \n",
              "394          IC50                 =           7.25            56.7   \n",
              "395          IC50                 =           6.24           571.0   \n",
              "396          IC50                 =           6.59           255.0   \n",
              "397          IC50                 =           6.71           194.5   \n",
              "\n",
              "    standard_units  \n",
              "0               nM  \n",
              "1               nM  \n",
              "2               nM  \n",
              "3               nM  \n",
              "4               nM  \n",
              "..             ...  \n",
              "393             nM  \n",
              "394             nM  \n",
              "395             nM  \n",
              "396             nM  \n",
              "397             nM  \n",
              "\n",
              "[398 rows x 7 columns]"
            ],
            "text/html": [
              "\n",
              "  <div id=\"df-3a9b91d4-df9f-46ff-b37a-1ec2b16480f3\">\n",
              "    <div class=\"colab-df-container\">\n",
              "      <div>\n",
              "<style scoped>\n",
              "    .dataframe tbody tr th:only-of-type {\n",
              "        vertical-align: middle;\n",
              "    }\n",
              "\n",
              "    .dataframe tbody tr th {\n",
              "        vertical-align: top;\n",
              "    }\n",
              "\n",
              "    .dataframe thead th {\n",
              "        text-align: right;\n",
              "    }\n",
              "</style>\n",
              "<table border=\"1\" class=\"dataframe\">\n",
              "  <thead>\n",
              "    <tr style=\"text-align: right;\">\n",
              "      <th></th>\n",
              "      <th>molecule_chembl_id</th>\n",
              "      <th>canonical_smiles</th>\n",
              "      <th>standard_type</th>\n",
              "      <th>standard_relation</th>\n",
              "      <th>pchembl_value</th>\n",
              "      <th>standard_value</th>\n",
              "      <th>standard_units</th>\n",
              "    </tr>\n",
              "  </thead>\n",
              "  <tbody>\n",
              "    <tr>\n",
              "      <th>0</th>\n",
              "      <td>CHEMBL199723</td>\n",
              "      <td>CN1CCN(CCc2ccc(NC(=O)c3cc(-c4ccc5c(c4)OCO5)cnc...</td>\n",
              "      <td>IC50</td>\n",
              "      <td>=</td>\n",
              "      <td>5.02</td>\n",
              "      <td>9500.0</td>\n",
              "      <td>nM</td>\n",
              "    </tr>\n",
              "    <tr>\n",
              "      <th>1</th>\n",
              "      <td>CHEMBL381738</td>\n",
              "      <td>CN1CCN(CCCc2ccc(NC(=O)c3cc(-c4ccc5c(c4)OCO5)cn...</td>\n",
              "      <td>IC50</td>\n",
              "      <td>=</td>\n",
              "      <td>4.84</td>\n",
              "      <td>14600.0</td>\n",
              "      <td>nM</td>\n",
              "    </tr>\n",
              "    <tr>\n",
              "      <th>2</th>\n",
              "      <td>CHEMBL370800</td>\n",
              "      <td>CN1CCN(Cc2ccc(NC(=O)c3cc(-c4ccc5c(c4)OCO5)cnc3...</td>\n",
              "      <td>IC50</td>\n",
              "      <td>=</td>\n",
              "      <td>4.89</td>\n",
              "      <td>12900.0</td>\n",
              "      <td>nM</td>\n",
              "    </tr>\n",
              "    <tr>\n",
              "      <th>3</th>\n",
              "      <td>CHEMBL436509</td>\n",
              "      <td>CN1CCN(c2ccc(NC(=O)c3cc(-c4ccc5c(c4)OCO5)cnc3O...</td>\n",
              "      <td>IC50</td>\n",
              "      <td>=</td>\n",
              "      <td>5.42</td>\n",
              "      <td>3800.0</td>\n",
              "      <td>nM</td>\n",
              "    </tr>\n",
              "    <tr>\n",
              "      <th>4</th>\n",
              "      <td>CHEMBL165</td>\n",
              "      <td>Oc1ccc(/C=C/c2cc(O)cc(O)c2)cc1</td>\n",
              "      <td>IC50</td>\n",
              "      <td>=</td>\n",
              "      <td>4.55</td>\n",
              "      <td>28000.0</td>\n",
              "      <td>nM</td>\n",
              "    </tr>\n",
              "    <tr>\n",
              "      <th>...</th>\n",
              "      <td>...</td>\n",
              "      <td>...</td>\n",
              "      <td>...</td>\n",
              "      <td>...</td>\n",
              "      <td>...</td>\n",
              "      <td>...</td>\n",
              "      <td>...</td>\n",
              "    </tr>\n",
              "    <tr>\n",
              "      <th>393</th>\n",
              "      <td>CHEMBL4794093</td>\n",
              "      <td>Cc1cn(-c2cc(NC(=O)c3cccc(C#Cc4cccc5[nH]nc(N)c4...</td>\n",
              "      <td>IC50</td>\n",
              "      <td>=</td>\n",
              "      <td>7.59</td>\n",
              "      <td>25.8</td>\n",
              "      <td>nM</td>\n",
              "    </tr>\n",
              "    <tr>\n",
              "      <th>394</th>\n",
              "      <td>CHEMBL4780226</td>\n",
              "      <td>CN1CCN(Cc2cc(NC(=O)c3cccc(C#Cc4cccc5[nH]nc(N)c...</td>\n",
              "      <td>IC50</td>\n",
              "      <td>=</td>\n",
              "      <td>7.25</td>\n",
              "      <td>56.7</td>\n",
              "      <td>nM</td>\n",
              "    </tr>\n",
              "    <tr>\n",
              "      <th>395</th>\n",
              "      <td>CHEMBL4794284</td>\n",
              "      <td>Nc1n[nH]c2cccc(C#Cc3cccc(C(=O)Nc4cc(CN5CCOCC5)...</td>\n",
              "      <td>IC50</td>\n",
              "      <td>=</td>\n",
              "      <td>6.24</td>\n",
              "      <td>571.0</td>\n",
              "      <td>nM</td>\n",
              "    </tr>\n",
              "    <tr>\n",
              "      <th>396</th>\n",
              "      <td>CHEMBL4786855</td>\n",
              "      <td>Nc1n[nH]c2cccc(C#Cc3cccc(C(=O)Nc4ccc(Cl)c(C(F)...</td>\n",
              "      <td>IC50</td>\n",
              "      <td>=</td>\n",
              "      <td>6.59</td>\n",
              "      <td>255.0</td>\n",
              "      <td>nM</td>\n",
              "    </tr>\n",
              "    <tr>\n",
              "      <th>397</th>\n",
              "      <td>CHEMBL4776468</td>\n",
              "      <td>Nc1n[nH]c2cccc(C#Cc3cccc(C(=O)Nc4ccc(CN5CCOCC5...</td>\n",
              "      <td>IC50</td>\n",
              "      <td>=</td>\n",
              "      <td>6.71</td>\n",
              "      <td>194.5</td>\n",
              "      <td>nM</td>\n",
              "    </tr>\n",
              "  </tbody>\n",
              "</table>\n",
              "<p>398 rows × 7 columns</p>\n",
              "</div>\n",
              "      <button class=\"colab-df-convert\" onclick=\"convertToInteractive('df-3a9b91d4-df9f-46ff-b37a-1ec2b16480f3')\"\n",
              "              title=\"Convert this dataframe to an interactive table.\"\n",
              "              style=\"display:none;\">\n",
              "        \n",
              "  <svg xmlns=\"http://www.w3.org/2000/svg\" height=\"24px\"viewBox=\"0 0 24 24\"\n",
              "       width=\"24px\">\n",
              "    <path d=\"M0 0h24v24H0V0z\" fill=\"none\"/>\n",
              "    <path d=\"M18.56 5.44l.94 2.06.94-2.06 2.06-.94-2.06-.94-.94-2.06-.94 2.06-2.06.94zm-11 1L8.5 8.5l.94-2.06 2.06-.94-2.06-.94L8.5 2.5l-.94 2.06-2.06.94zm10 10l.94 2.06.94-2.06 2.06-.94-2.06-.94-.94-2.06-.94 2.06-2.06.94z\"/><path d=\"M17.41 7.96l-1.37-1.37c-.4-.4-.92-.59-1.43-.59-.52 0-1.04.2-1.43.59L10.3 9.45l-7.72 7.72c-.78.78-.78 2.05 0 2.83L4 21.41c.39.39.9.59 1.41.59.51 0 1.02-.2 1.41-.59l7.78-7.78 2.81-2.81c.8-.78.8-2.07 0-2.86zM5.41 20L4 18.59l7.72-7.72 1.47 1.35L5.41 20z\"/>\n",
              "  </svg>\n",
              "      </button>\n",
              "      \n",
              "  <style>\n",
              "    .colab-df-container {\n",
              "      display:flex;\n",
              "      flex-wrap:wrap;\n",
              "      gap: 12px;\n",
              "    }\n",
              "\n",
              "    .colab-df-convert {\n",
              "      background-color: #E8F0FE;\n",
              "      border: none;\n",
              "      border-radius: 50%;\n",
              "      cursor: pointer;\n",
              "      display: none;\n",
              "      fill: #1967D2;\n",
              "      height: 32px;\n",
              "      padding: 0 0 0 0;\n",
              "      width: 32px;\n",
              "    }\n",
              "\n",
              "    .colab-df-convert:hover {\n",
              "      background-color: #E2EBFA;\n",
              "      box-shadow: 0px 1px 2px rgba(60, 64, 67, 0.3), 0px 1px 3px 1px rgba(60, 64, 67, 0.15);\n",
              "      fill: #174EA6;\n",
              "    }\n",
              "\n",
              "    [theme=dark] .colab-df-convert {\n",
              "      background-color: #3B4455;\n",
              "      fill: #D2E3FC;\n",
              "    }\n",
              "\n",
              "    [theme=dark] .colab-df-convert:hover {\n",
              "      background-color: #434B5C;\n",
              "      box-shadow: 0px 1px 3px 1px rgba(0, 0, 0, 0.15);\n",
              "      filter: drop-shadow(0px 1px 2px rgba(0, 0, 0, 0.3));\n",
              "      fill: #FFFFFF;\n",
              "    }\n",
              "  </style>\n",
              "\n",
              "      <script>\n",
              "        const buttonEl =\n",
              "          document.querySelector('#df-3a9b91d4-df9f-46ff-b37a-1ec2b16480f3 button.colab-df-convert');\n",
              "        buttonEl.style.display =\n",
              "          google.colab.kernel.accessAllowed ? 'block' : 'none';\n",
              "\n",
              "        async function convertToInteractive(key) {\n",
              "          const element = document.querySelector('#df-3a9b91d4-df9f-46ff-b37a-1ec2b16480f3');\n",
              "          const dataTable =\n",
              "            await google.colab.kernel.invokeFunction('convertToInteractive',\n",
              "                                                     [key], {});\n",
              "          if (!dataTable) return;\n",
              "\n",
              "          const docLinkHtml = 'Like what you see? Visit the ' +\n",
              "            '<a target=\"_blank\" href=https://colab.research.google.com/notebooks/data_table.ipynb>data table notebook</a>'\n",
              "            + ' to learn more about interactive tables.';\n",
              "          element.innerHTML = '';\n",
              "          dataTable['output_type'] = 'display_data';\n",
              "          await google.colab.output.renderOutput(dataTable, element);\n",
              "          const docLink = document.createElement('div');\n",
              "          docLink.innerHTML = docLinkHtml;\n",
              "          element.appendChild(docLink);\n",
              "        }\n",
              "      </script>\n",
              "    </div>\n",
              "  </div>\n",
              "  "
            ]
          },
          "metadata": {},
          "execution_count": 39
        }
      ]
    },
    {
      "cell_type": "code",
      "source": [
        "df4.info()"
      ],
      "metadata": {
        "colab": {
          "base_uri": "https://localhost:8080/"
        },
        "id": "WEn57BA52J-f",
        "outputId": "42013dc3-2ce0-4d72-db5f-03b2dd1675b7"
      },
      "execution_count": null,
      "outputs": [
        {
          "output_type": "stream",
          "name": "stdout",
          "text": [
            "<class 'pandas.core.frame.DataFrame'>\n",
            "RangeIndex: 398 entries, 0 to 397\n",
            "Data columns (total 7 columns):\n",
            " #   Column              Non-Null Count  Dtype  \n",
            "---  ------              --------------  -----  \n",
            " 0   molecule_chembl_id  398 non-null    object \n",
            " 1   canonical_smiles    398 non-null    object \n",
            " 2   standard_type       398 non-null    object \n",
            " 3   standard_relation   398 non-null    object \n",
            " 4   pchembl_value       398 non-null    float64\n",
            " 5   standard_value      398 non-null    float64\n",
            " 6   standard_units      398 non-null    object \n",
            "dtypes: float64(2), object(5)\n",
            "memory usage: 21.9+ KB\n"
          ]
        }
      ]
    },
    {
      "cell_type": "code",
      "source": [
        "df4.pchembl_value.describe()"
      ],
      "metadata": {
        "colab": {
          "base_uri": "https://localhost:8080/"
        },
        "id": "syRepA9-05VP",
        "outputId": "215a2a4d-e416-41bd-d298-996c8e3397bc"
      },
      "execution_count": null,
      "outputs": [
        {
          "output_type": "execute_result",
          "data": {
            "text/plain": [
              "count    398.000000\n",
              "mean       6.399271\n",
              "std        1.351111\n",
              "min        4.000000\n",
              "25%        5.345000\n",
              "50%        6.240000\n",
              "75%        7.322500\n",
              "max        9.480000\n",
              "Name: pchembl_value, dtype: float64"
            ]
          },
          "metadata": {},
          "execution_count": 41
        }
      ]
    },
    {
      "cell_type": "code",
      "source": [
        "df4[\"pchembl_value\"].value_counts()"
      ],
      "metadata": {
        "colab": {
          "base_uri": "https://localhost:8080/"
        },
        "id": "uTqKCXiC3nZO",
        "outputId": "a2cb4a1a-b7fe-41ca-c2ad-ccbaeaec5351"
      },
      "execution_count": null,
      "outputs": [
        {
          "output_type": "execute_result",
          "data": {
            "text/plain": [
              "5.00    14\n",
              "5.60    11\n",
              "6.00     7\n",
              "6.30     5\n",
              "9.28     5\n",
              "        ..\n",
              "5.66     1\n",
              "4.48     1\n",
              "4.17     1\n",
              "5.01     1\n",
              "6.71     1\n",
              "Name: pchembl_value, Length: 244, dtype: int64"
            ]
          },
          "metadata": {},
          "execution_count": 42
        }
      ]
    },
    {
      "cell_type": "code",
      "source": [
        "# Distribution of pchembl_values\n",
        "df4.pchembl_value.hist(bins=5, figsize=(8,4), color='#00BFC4', ec='black')\n",
        "\n",
        "plt.title('pChEMBL values distribution', fontsize=14, fontweight='black', pad=15)\n",
        "plt.xticks(fontsize=12)\n",
        "plt.yticks(fontsize=12)\n",
        "plt.show()"
      ],
      "metadata": {
        "colab": {
          "base_uri": "https://localhost:8080/",
          "height": 294
        },
        "id": "jV5BFY_o1TNf",
        "outputId": "9157672a-e90d-453f-9f97-99c3cbc71563"
      },
      "execution_count": null,
      "outputs": [
        {
          "output_type": "display_data",
          "data": {
            "text/plain": [
              "<Figure size 576x288 with 1 Axes>"
            ],
            "image/png": "[encoded data removed]"
          },
          "metadata": {}
        }
      ]
    },
    {
      "cell_type": "code",
      "source": [
        "import seaborn as sns\n",
        "plt.subplots(figsize=(7,6), dpi=100)\n",
        "sns.distplot(df4.pchembl_value, color=\"blue\", label=\"\")\n",
        "sns.set_style(\"white\")\n",
        "plt.title('pChEMBL values distribution', fontsize=14, fontweight='black', pad=15)"
      ],
      "metadata": {
        "colab": {
          "base_uri": "https://localhost:8080/",
          "height": 648
        },
        "id": "T2675NHpPfaI",
        "outputId": "dd9f19dc-6c71-4d09-ad41-34b07bb432f2"
      },
      "execution_count": null,
      "outputs": [
        {
          "output_type": "stream",
          "name": "stderr",
          "text": [
            "/usr/local/lib/python3.7/dist-packages/seaborn/distributions.py:2619: FutureWarning: `distplot` is a deprecated function and will be removed in a future version. Please adapt your code to use either `displot` (a figure-level function with similar flexibility) or `histplot` (an axes-level function for histograms).\n",
            "  warnings.warn(msg, FutureWarning)\n"
          ]
        },
        {
          "output_type": "execute_result",
          "data": {
            "text/plain": [
              "Text(0.5, 1.0, 'pChEMBL values distribution')"
            ]
          },
          "metadata": {},
          "execution_count": 71
        },
        {
          "output_type": "display_data",
          "data": {
            "text/plain": [
              "<Figure size 700x600 with 1 Axes>"
            ],
            "image/png": "[encoded data removed]"
          },
          "metadata": {}
        }
      ]
    },
    {
      "cell_type": "code",
      "source": [
        "from scipy.stats import norm\n",
        "sns.displot(df4.pchembl_value,color='#0DC5D1')\n",
        "plt.title('pChEMBL values distribution', fontsize=14, fontweight='black', pad=15)"
      ],
      "metadata": {
        "colab": {
          "base_uri": "https://localhost:8080/",
          "height": 413
        },
        "id": "Rw78dFfwro7J",
        "outputId": "8bd82846-caa8-414a-bd21-dcd61d407270"
      },
      "execution_count": null,
      "outputs": [
        {
          "output_type": "execute_result",
          "data": {
            "text/plain": [
              "Text(0.5, 1.0, 'pChEMBL values distribution')"
            ]
          },
          "metadata": {},
          "execution_count": 114
        },
        {
          "output_type": "display_data",
          "data": {
            "text/plain": [
              "<Figure size 360x360 with 1 Axes>"
            ],
            "image/png": "[encoded data removed]"
          },
          "metadata": {}
        }
      ]
    },
    {
      "cell_type": "code",
      "source": [
        "#plt.figure(figsize=(10,6))\n",
        "sns.displot(df4.standard_value,color='r')\n",
        "#plt.title('Standard_value distribution',size=18)\n",
        "#plt.xlabel('Standard value',size=20)\n",
        "#plt.ylabel('Density',size=14)\n",
        "#plt.show()"
      ],
      "metadata": {
        "colab": {
          "base_uri": "https://localhost:8080/",
          "height": 386
        },
        "id": "8n6g5V1DjSBw",
        "outputId": "21a4c094-92d5-4cf3-fd8f-64d680e5d0ec"
      },
      "execution_count": null,
      "outputs": [
        {
          "output_type": "execute_result",
          "data": {
            "text/plain": [
              "<seaborn.axisgrid.FacetGrid at 0x7f2323d11cd0>"
            ]
          },
          "metadata": {},
          "execution_count": 101
        },
        {
          "output_type": "display_data",
          "data": {
            "text/plain": [
              "<Figure size 360x360 with 1 Axes>"
            ],
            "image/png": "[encoded data removed]"
          },
          "metadata": {}
        }
      ]
    },
    {
      "cell_type": "code",
      "source": [
        "plt.figure(figsize = (8,4))\n",
        "sns.boxplot(df4.pchembl_value)\n",
        "plt.title('Boxplot for pchembl values',size=18)\n",
        "plt.show()"
      ],
      "metadata": {
        "colab": {
          "base_uri": "https://localhost:8080/",
          "height": 357
        },
        "id": "uQPIXuwhilyB",
        "outputId": "e56938c2-76d7-4218-9803-4d9b5a29eee4"
      },
      "execution_count": null,
      "outputs": [
        {
          "output_type": "stream",
          "name": "stderr",
          "text": [
            "/usr/local/lib/python3.7/dist-packages/seaborn/_decorators.py:43: FutureWarning: Pass the following variable as a keyword arg: x. From version 0.12, the only valid positional argument will be `data`, and passing other arguments without an explicit keyword will result in an error or misinterpretation.\n",
            "  FutureWarning\n"
          ]
        },
        {
          "output_type": "display_data",
          "data": {
            "text/plain": [
              "<Figure size 576x288 with 1 Axes>"
            ],
            "image/png": "[encoded data removed]"
          },
          "metadata": {}
        }
      ]
    },
    {
      "cell_type": "code",
      "source": [
        "plt.figure(figsize = (8,4))\n",
        "sns.violinplot(df4.pchembl_value, color= 'skyblue')\n",
        "plt.title('Violin Plot distribution for pChEMBL values',size=18)\n",
        "plt.show()"
      ],
      "metadata": {
        "colab": {
          "base_uri": "https://localhost:8080/",
          "height": 359
        },
        "id": "dG-9HSYgidvq",
        "outputId": "c9b3268c-8b0a-4a13-a3a5-6eb6f5e47dc0"
      },
      "execution_count": null,
      "outputs": [
        {
          "output_type": "stream",
          "name": "stderr",
          "text": [
            "/usr/local/lib/python3.7/dist-packages/seaborn/_decorators.py:43: FutureWarning: Pass the following variable as a keyword arg: x. From version 0.12, the only valid positional argument will be `data`, and passing other arguments without an explicit keyword will result in an error or misinterpretation.\n",
            "  FutureWarning\n"
          ]
        },
        {
          "output_type": "display_data",
          "data": {
            "text/plain": [
              "<Figure size 576x288 with 1 Axes>"
            ],
            "image/png": "[encoded data removed]"
          },
          "metadata": {}
        }
      ]
    },
    {
      "cell_type": "code",
      "source": [
        "plt.figure(figsize = (8,4))\n",
        "sns.swarmplot(df4.pchembl_value)\n",
        "plt.title('Boxplot for pchembl values',size=18)\n",
        "plt.show()"
      ],
      "metadata": {
        "colab": {
          "base_uri": "https://localhost:8080/",
          "height": 359
        },
        "id": "cv-NKRi1rjhx",
        "outputId": "a7a3ac52-5616-4315-b517-81a7dd108cb1"
      },
      "execution_count": null,
      "outputs": [
        {
          "output_type": "stream",
          "name": "stderr",
          "text": [
            "/usr/local/lib/python3.7/dist-packages/seaborn/_decorators.py:43: FutureWarning: Pass the following variable as a keyword arg: x. From version 0.12, the only valid positional argument will be `data`, and passing other arguments without an explicit keyword will result in an error or misinterpretation.\n",
            "  FutureWarning\n"
          ]
        },
        {
          "output_type": "display_data",
          "data": {
            "text/plain": [
              "<Figure size 576x288 with 1 Axes>"
            ],
            "image/png": "[encoded data removed]"
          },
          "metadata": {}
        }
      ]
    },
    {
      "cell_type": "code",
      "source": [
        "plt.figure(figsize = (8,4))\n",
        "sns.boxplot(df4.standard_value)\n",
        "plt.title('Boxplot for standard values',size=18)\n",
        "plt.show()"
      ],
      "metadata": {
        "colab": {
          "base_uri": "https://localhost:8080/",
          "height": 357
        },
        "id": "a7rSp-VoomNK",
        "outputId": "3194c611-eb4a-4c1f-e34c-3363c6f7e409"
      },
      "execution_count": null,
      "outputs": [
        {
          "output_type": "stream",
          "name": "stderr",
          "text": [
            "/usr/local/lib/python3.7/dist-packages/seaborn/_decorators.py:43: FutureWarning: Pass the following variable as a keyword arg: x. From version 0.12, the only valid positional argument will be `data`, and passing other arguments without an explicit keyword will result in an error or misinterpretation.\n",
            "  FutureWarning\n"
          ]
        },
        {
          "output_type": "display_data",
          "data": {
            "text/plain": [
              "<Figure size 576x288 with 1 Axes>"
            ],
            "image/png": "[encoded data removed]"
          },
          "metadata": {}
        }
      ]
    },
    {
      "cell_type": "code",
      "source": [
        "df4.to_csv('bcr_abl_bioactivity_data_uniq_set2.csv', index=False)"
      ],
      "metadata": {
        "id": "V9F0vmkXPkD3"
      },
      "execution_count": null,
      "outputs": []
    },
    {
      "cell_type": "code",
      "source": [
        "cp bcr_abl_bioactivity_data_uniq_set2.csv '/content/drive/MyDrive/inhibitor_prediction/bcr_abl/chembl_data_retrieve'"
      ],
      "metadata": {
        "id": "56jkuZ9jRiG8"
      },
      "execution_count": null,
      "outputs": []
    },
    {
      "cell_type": "code",
      "source": [
        "df5 = pd.read_csv('/content/drive/MyDrive/inhibitor_prediction/bcr_abl/chembl_data_retrieve/bcr_abl_bioactivity_data_uniq_set2.csv')"
      ],
      "metadata": {
        "id": "PFSUapZaRn4z"
      },
      "execution_count": null,
      "outputs": []
    },
    {
      "cell_type": "code",
      "source": [
        "# Convert pchembl values to binary ones\n",
        "df5[\"pchembl_bin\"] = (df5[\"pchembl_value\"] >= 6.3).astype(int) # 0 means inactive and 1 means active"
      ],
      "metadata": {
        "id": "m6i6FdVbRyRF"
      },
      "execution_count": null,
      "outputs": []
    },
    {
      "cell_type": "code",
      "source": [
        "df5"
      ],
      "metadata": {
        "colab": {
          "base_uri": "https://localhost:8080/",
          "height": 423
        },
        "id": "fzD2dingR5JN",
        "outputId": "09fbf245-dee7-4961-8bb9-33552216fb3e"
      },
      "execution_count": null,
      "outputs": [
        {
          "output_type": "execute_result",
          "data": {
            "text/plain": [
              "    molecule_chembl_id                                   canonical_smiles  \\\n",
              "0         CHEMBL199723  CN1CCN(CCc2ccc(NC(=O)c3cc(-c4ccc5c(c4)OCO5)cnc...   \n",
              "1         CHEMBL381738  CN1CCN(CCCc2ccc(NC(=O)c3cc(-c4ccc5c(c4)OCO5)cn...   \n",
              "2         CHEMBL370800  CN1CCN(Cc2ccc(NC(=O)c3cc(-c4ccc5c(c4)OCO5)cnc3...   \n",
              "3         CHEMBL436509  CN1CCN(c2ccc(NC(=O)c3cc(-c4ccc5c(c4)OCO5)cnc3O...   \n",
              "4            CHEMBL165                     Oc1ccc(/C=C/c2cc(O)cc(O)c2)cc1   \n",
              "..                 ...                                                ...   \n",
              "393      CHEMBL4794093  Cc1cn(-c2cc(NC(=O)c3cccc(C#Cc4cccc5[nH]nc(N)c4...   \n",
              "394      CHEMBL4780226  CN1CCN(Cc2cc(NC(=O)c3cccc(C#Cc4cccc5[nH]nc(N)c...   \n",
              "395      CHEMBL4794284  Nc1n[nH]c2cccc(C#Cc3cccc(C(=O)Nc4cc(CN5CCOCC5)...   \n",
              "396      CHEMBL4786855  Nc1n[nH]c2cccc(C#Cc3cccc(C(=O)Nc4ccc(Cl)c(C(F)...   \n",
              "397      CHEMBL4776468  Nc1n[nH]c2cccc(C#Cc3cccc(C(=O)Nc4ccc(CN5CCOCC5...   \n",
              "\n",
              "    standard_type standard_relation  pchembl_value  standard_value  \\\n",
              "0            IC50                 =           5.02          9500.0   \n",
              "1            IC50                 =           4.84         14600.0   \n",
              "2            IC50                 =           4.89         12900.0   \n",
              "3            IC50                 =           5.42          3800.0   \n",
              "4            IC50                 =           4.55         28000.0   \n",
              "..            ...               ...            ...             ...   \n",
              "393          IC50                 =           7.59            25.8   \n",
              "394          IC50                 =           7.25            56.7   \n",
              "395          IC50                 =           6.24           571.0   \n",
              "396          IC50                 =           6.59           255.0   \n",
              "397          IC50                 =           6.71           194.5   \n",
              "\n",
              "    standard_units  pchembl_bin  \n",
              "0               nM            0  \n",
              "1               nM            0  \n",
              "2               nM            0  \n",
              "3               nM            0  \n",
              "4               nM            0  \n",
              "..             ...          ...  \n",
              "393             nM            1  \n",
              "394             nM            1  \n",
              "395             nM            0  \n",
              "396             nM            1  \n",
              "397             nM            1  \n",
              "\n",
              "[398 rows x 8 columns]"
            ],
            "text/html": [
              "\n",
              "  <div id=\"df-a365ad8f-ce2c-43b8-98d0-4718c677457f\">\n",
              "    <div class=\"colab-df-container\">\n",
              "      <div>\n",
              "<style scoped>\n",
              "    .dataframe tbody tr th:only-of-type {\n",
              "        vertical-align: middle;\n",
              "    }\n",
              "\n",
              "    .dataframe tbody tr th {\n",
              "        vertical-align: top;\n",
              "    }\n",
              "\n",
              "    .dataframe thead th {\n",
              "        text-align: right;\n",
              "    }\n",
              "</style>\n",
              "<table border=\"1\" class=\"dataframe\">\n",
              "  <thead>\n",
              "    <tr style=\"text-align: right;\">\n",
              "      <th></th>\n",
              "      <th>molecule_chembl_id</th>\n",
              "      <th>canonical_smiles</th>\n",
              "      <th>standard_type</th>\n",
              "      <th>standard_relation</th>\n",
              "      <th>pchembl_value</th>\n",
              "      <th>standard_value</th>\n",
              "      <th>standard_units</th>\n",
              "      <th>pchembl_bin</th>\n",
              "    </tr>\n",
              "  </thead>\n",
              "  <tbody>\n",
              "    <tr>\n",
              "      <th>0</th>\n",
              "      <td>CHEMBL199723</td>\n",
              "      <td>CN1CCN(CCc2ccc(NC(=O)c3cc(-c4ccc5c(c4)OCO5)cnc...</td>\n",
              "      <td>IC50</td>\n",
              "      <td>=</td>\n",
              "      <td>5.02</td>\n",
              "      <td>9500.0</td>\n",
              "      <td>nM</td>\n",
              "      <td>0</td>\n",
              "    </tr>\n",
              "    <tr>\n",
              "      <th>1</th>\n",
              "      <td>CHEMBL381738</td>\n",
              "      <td>CN1CCN(CCCc2ccc(NC(=O)c3cc(-c4ccc5c(c4)OCO5)cn...</td>\n",
              "      <td>IC50</td>\n",
              "      <td>=</td>\n",
              "      <td>4.84</td>\n",
              "      <td>14600.0</td>\n",
              "      <td>nM</td>\n",
              "      <td>0</td>\n",
              "    </tr>\n",
              "    <tr>\n",
              "      <th>2</th>\n",
              "      <td>CHEMBL370800</td>\n",
              "      <td>CN1CCN(Cc2ccc(NC(=O)c3cc(-c4ccc5c(c4)OCO5)cnc3...</td>\n",
              "      <td>IC50</td>\n",
              "      <td>=</td>\n",
              "      <td>4.89</td>\n",
              "      <td>12900.0</td>\n",
              "      <td>nM</td>\n",
              "      <td>0</td>\n",
              "    </tr>\n",
              "    <tr>\n",
              "      <th>3</th>\n",
              "      <td>CHEMBL436509</td>\n",
              "      <td>CN1CCN(c2ccc(NC(=O)c3cc(-c4ccc5c(c4)OCO5)cnc3O...</td>\n",
              "      <td>IC50</td>\n",
              "      <td>=</td>\n",
              "      <td>5.42</td>\n",
              "      <td>3800.0</td>\n",
              "      <td>nM</td>\n",
              "      <td>0</td>\n",
              "    </tr>\n",
              "    <tr>\n",
              "      <th>4</th>\n",
              "      <td>CHEMBL165</td>\n",
              "      <td>Oc1ccc(/C=C/c2cc(O)cc(O)c2)cc1</td>\n",
              "      <td>IC50</td>\n",
              "      <td>=</td>\n",
              "      <td>4.55</td>\n",
              "      <td>28000.0</td>\n",
              "      <td>nM</td>\n",
              "      <td>0</td>\n",
              "    </tr>\n",
              "    <tr>\n",
              "      <th>...</th>\n",
              "      <td>...</td>\n",
              "      <td>...</td>\n",
              "      <td>...</td>\n",
              "      <td>...</td>\n",
              "      <td>...</td>\n",
              "      <td>...</td>\n",
              "      <td>...</td>\n",
              "      <td>...</td>\n",
              "    </tr>\n",
              "    <tr>\n",
              "      <th>393</th>\n",
              "      <td>CHEMBL4794093</td>\n",
              "      <td>Cc1cn(-c2cc(NC(=O)c3cccc(C#Cc4cccc5[nH]nc(N)c4...</td>\n",
              "      <td>IC50</td>\n",
              "      <td>=</td>\n",
              "      <td>7.59</td>\n",
              "      <td>25.8</td>\n",
              "      <td>nM</td>\n",
              "      <td>1</td>\n",
              "    </tr>\n",
              "    <tr>\n",
              "      <th>394</th>\n",
              "      <td>CHEMBL4780226</td>\n",
              "      <td>CN1CCN(Cc2cc(NC(=O)c3cccc(C#Cc4cccc5[nH]nc(N)c...</td>\n",
              "      <td>IC50</td>\n",
              "      <td>=</td>\n",
              "      <td>7.25</td>\n",
              "      <td>56.7</td>\n",
              "      <td>nM</td>\n",
              "      <td>1</td>\n",
              "    </tr>\n",
              "    <tr>\n",
              "      <th>395</th>\n",
              "      <td>CHEMBL4794284</td>\n",
              "      <td>Nc1n[nH]c2cccc(C#Cc3cccc(C(=O)Nc4cc(CN5CCOCC5)...</td>\n",
              "      <td>IC50</td>\n",
              "      <td>=</td>\n",
              "      <td>6.24</td>\n",
              "      <td>571.0</td>\n",
              "      <td>nM</td>\n",
              "      <td>0</td>\n",
              "    </tr>\n",
              "    <tr>\n",
              "      <th>396</th>\n",
              "      <td>CHEMBL4786855</td>\n",
              "      <td>Nc1n[nH]c2cccc(C#Cc3cccc(C(=O)Nc4ccc(Cl)c(C(F)...</td>\n",
              "      <td>IC50</td>\n",
              "      <td>=</td>\n",
              "      <td>6.59</td>\n",
              "      <td>255.0</td>\n",
              "      <td>nM</td>\n",
              "      <td>1</td>\n",
              "    </tr>\n",
              "    <tr>\n",
              "      <th>397</th>\n",
              "      <td>CHEMBL4776468</td>\n",
              "      <td>Nc1n[nH]c2cccc(C#Cc3cccc(C(=O)Nc4ccc(CN5CCOCC5...</td>\n",
              "      <td>IC50</td>\n",
              "      <td>=</td>\n",
              "      <td>6.71</td>\n",
              "      <td>194.5</td>\n",
              "      <td>nM</td>\n",
              "      <td>1</td>\n",
              "    </tr>\n",
              "  </tbody>\n",
              "</table>\n",
              "<p>398 rows × 8 columns</p>\n",
              "</div>\n",
              "      <button class=\"colab-df-convert\" onclick=\"convertToInteractive('df-a365ad8f-ce2c-43b8-98d0-4718c677457f')\"\n",
              "              title=\"Convert this dataframe to an interactive table.\"\n",
              "              style=\"display:none;\">\n",
              "        \n",
              "  <svg xmlns=\"http://www.w3.org/2000/svg\" height=\"24px\"viewBox=\"0 0 24 24\"\n",
              "       width=\"24px\">\n",
              "    <path d=\"M0 0h24v24H0V0z\" fill=\"none\"/>\n",
              "    <path d=\"M18.56 5.44l.94 2.06.94-2.06 2.06-.94-2.06-.94-.94-2.06-.94 2.06-2.06.94zm-11 1L8.5 8.5l.94-2.06 2.06-.94-2.06-.94L8.5 2.5l-.94 2.06-2.06.94zm10 10l.94 2.06.94-2.06 2.06-.94-2.06-.94-.94-2.06-.94 2.06-2.06.94z\"/><path d=\"M17.41 7.96l-1.37-1.37c-.4-.4-.92-.59-1.43-.59-.52 0-1.04.2-1.43.59L10.3 9.45l-7.72 7.72c-.78.78-.78 2.05 0 2.83L4 21.41c.39.39.9.59 1.41.59.51 0 1.02-.2 1.41-.59l7.78-7.78 2.81-2.81c.8-.78.8-2.07 0-2.86zM5.41 20L4 18.59l7.72-7.72 1.47 1.35L5.41 20z\"/>\n",
              "  </svg>\n",
              "      </button>\n",
              "      \n",
              "  <style>\n",
              "    .colab-df-container {\n",
              "      display:flex;\n",
              "      flex-wrap:wrap;\n",
              "      gap: 12px;\n",
              "    }\n",
              "\n",
              "    .colab-df-convert {\n",
              "      background-color: #E8F0FE;\n",
              "      border: none;\n",
              "      border-radius: 50%;\n",
              "      cursor: pointer;\n",
              "      display: none;\n",
              "      fill: #1967D2;\n",
              "      height: 32px;\n",
              "      padding: 0 0 0 0;\n",
              "      width: 32px;\n",
              "    }\n",
              "\n",
              "    .colab-df-convert:hover {\n",
              "      background-color: #E2EBFA;\n",
              "      box-shadow: 0px 1px 2px rgba(60, 64, 67, 0.3), 0px 1px 3px 1px rgba(60, 64, 67, 0.15);\n",
              "      fill: #174EA6;\n",
              "    }\n",
              "\n",
              "    [theme=dark] .colab-df-convert {\n",
              "      background-color: #3B4455;\n",
              "      fill: #D2E3FC;\n",
              "    }\n",
              "\n",
              "    [theme=dark] .colab-df-convert:hover {\n",
              "      background-color: #434B5C;\n",
              "      box-shadow: 0px 1px 3px 1px rgba(0, 0, 0, 0.15);\n",
              "      filter: drop-shadow(0px 1px 2px rgba(0, 0, 0, 0.3));\n",
              "      fill: #FFFFFF;\n",
              "    }\n",
              "  </style>\n",
              "\n",
              "      <script>\n",
              "        const buttonEl =\n",
              "          document.querySelector('#df-a365ad8f-ce2c-43b8-98d0-4718c677457f button.colab-df-convert');\n",
              "        buttonEl.style.display =\n",
              "          google.colab.kernel.accessAllowed ? 'block' : 'none';\n",
              "\n",
              "        async function convertToInteractive(key) {\n",
              "          const element = document.querySelector('#df-a365ad8f-ce2c-43b8-98d0-4718c677457f');\n",
              "          const dataTable =\n",
              "            await google.colab.kernel.invokeFunction('convertToInteractive',\n",
              "                                                     [key], {});\n",
              "          if (!dataTable) return;\n",
              "\n",
              "          const docLinkHtml = 'Like what you see? Visit the ' +\n",
              "            '<a target=\"_blank\" href=https://colab.research.google.com/notebooks/data_table.ipynb>data table notebook</a>'\n",
              "            + ' to learn more about interactive tables.';\n",
              "          element.innerHTML = '';\n",
              "          dataTable['output_type'] = 'display_data';\n",
              "          await google.colab.output.renderOutput(dataTable, element);\n",
              "          const docLink = document.createElement('div');\n",
              "          docLink.innerHTML = docLinkHtml;\n",
              "          element.appendChild(docLink);\n",
              "        }\n",
              "      </script>\n",
              "    </div>\n",
              "  </div>\n",
              "  "
            ]
          },
          "metadata": {},
          "execution_count": 76
        }
      ]
    },
    {
      "cell_type": "code",
      "source": [
        "bioactivity_class = []\n",
        "for i in df5.pchembl_value:\n",
        "  if float(i) >=6.3:\n",
        "    bioactivity_class.append(\"active\")\n",
        "  #elif float(i) >=10000:\n",
        "    #bioactivity_class.append(\"inactive\")\n",
        "  else:\n",
        "    #bioactivity_class.append(\"intermediate\")\n",
        "    bioactivity_class.append(\"inactive\")"
      ],
      "metadata": {
        "id": "5WDICEiXcj_K"
      },
      "execution_count": null,
      "outputs": []
    },
    {
      "cell_type": "code",
      "source": [
        "#df_bioact = df5.copy"
      ],
      "metadata": {
        "id": "HAN5M7-4dEvx"
      },
      "execution_count": null,
      "outputs": []
    },
    {
      "cell_type": "code",
      "source": [
        "#df_bioact"
      ],
      "metadata": {
        "id": "uXEccjwwdrZj"
      },
      "execution_count": null,
      "outputs": []
    },
    {
      "cell_type": "code",
      "source": [
        "# Bar plot of active and inactive molecules based on pCHEMBL values\n",
        "\n",
        "# Data\n",
        "active = len(df5[df5.pchembl_bin == 1])\n",
        "inactive = len(df5[df5.pchembl_bin == 0])\n",
        "\n",
        "x = ['Active', 'Inactive']\n",
        "y = [active, inactive]\n",
        "\n",
        "# Setup plot\n",
        "fig, ax = plt.subplots()\n",
        "\n",
        "# Make bar plot\n",
        "p = ax.bar(x, y, color = ['#F8766D', '#00BFC4'], ec = 'black')\n",
        "\n",
        "ax.set_title('pChEMBL activity', fontsize=14, fontweight='bold', pad=15)\n",
        "#ax.set_xticklabels(x, fontweight='bold')\n",
        "\n",
        "ax.set_ylim(0,700)\n",
        "plt.xticks(fontsize=14)\n",
        "plt.yticks(fontsize=14)\n",
        "\n",
        "# Label above bar\n",
        "for index, data in enumerate(y):\n",
        "    plt.text(x=index-0.1 , y =data+10 , s=f\"{data}\" , fontdict=dict(fontsize=14))\n",
        "\n",
        "fig.set_size_inches(5,4.5)\n",
        "plt.show()"
      ],
      "metadata": {
        "colab": {
          "base_uri": "https://localhost:8080/",
          "height": 323
        },
        "id": "1lvlEMpfR_p0",
        "outputId": "50c4a26c-22ef-4f75-fee0-e7bde815f052"
      },
      "execution_count": null,
      "outputs": [
        {
          "output_type": "display_data",
          "data": {
            "text/plain": [
              "<Figure size 360x324 with 1 Axes>"
            ],
            "image/png": "[encoded data removed]"
          },
          "metadata": {}
        }
      ]
    },
    {
      "cell_type": "code",
      "source": [
        "active = len(df5[df5.pchembl_bin == 1])\n",
        "inactive = len(df5[df5.pchembl_bin == 0])"
      ],
      "metadata": {
        "id": "y2ct8DtzSeLO"
      },
      "execution_count": null,
      "outputs": []
    },
    {
      "cell_type": "code",
      "source": [
        "active, inactive"
      ],
      "metadata": {
        "colab": {
          "base_uri": "https://localhost:8080/"
        },
        "id": "E1ZN_B1xSq-Q",
        "outputId": "16c28bac-e1c0-4dee-e93c-0778834674a9"
      },
      "execution_count": null,
      "outputs": [
        {
          "output_type": "execute_result",
          "data": {
            "text/plain": [
              "(191, 207)"
            ]
          },
          "metadata": {},
          "execution_count": 80
        }
      ]
    },
    {
      "cell_type": "code",
      "source": [
        "# Statistical analysis | Mann-Whitney U Test\n",
        "def mannwhitney(descriptor, dataset, verbose=False):\n",
        "\n",
        "# seed the random number generator\n",
        "  np.random.seed(1)\n",
        "\n",
        "# actives and inactives\n",
        "  selection = [descriptor, 'pchembl_bin']\n",
        "  df = dataset[selection]\n",
        "  active = df5[df5.pchembl_bin == 1]\n",
        "  active = active[descriptor]\n",
        "\n",
        "  inactive = df5[df5.pchembl_bin == 0]\n",
        "  inactive = inactive[descriptor]\n",
        "\n",
        "# compare samples\n",
        "  stat, p = mannwhitneyu(active, inactive)\n",
        "  #print('Statistics=%.3f, p=%.3f' % (stat, p))\n",
        "\n",
        "# interpret\n",
        "  alpha = 0.05\n",
        "  if p > alpha:\n",
        "    interpretation = 'Same distribution (fail to reject H0)'\n",
        "  else:\n",
        "    interpretation = 'Different distribution (reject H0)'\n",
        "\n",
        "  results = pd.DataFrame({'Descriptor':descriptor,\n",
        "                          'Statistics':stat,\n",
        "                          'p':p,\n",
        "                          'alpha':alpha,\n",
        "                          'Interpretation':interpretation}, index=[0])\n",
        "\n",
        "  return results"
      ],
      "metadata": {
        "id": "Ugx-7AkDTRrW"
      },
      "execution_count": null,
      "outputs": []
    },
    {
      "cell_type": "code",
      "source": [
        "mannwhitney('pchembl_value', df5)"
      ],
      "metadata": {
        "colab": {
          "base_uri": "https://localhost:8080/",
          "height": 81
        },
        "id": "zqnBvUnNTtJU",
        "outputId": "305b3d43-78df-4259-e6c5-6393731392fe"
      },
      "execution_count": null,
      "outputs": [
        {
          "output_type": "execute_result",
          "data": {
            "text/plain": [
              "      Descriptor  Statistics             p  alpha  \\\n",
              "0  pchembl_value     39537.0  1.287082e-66   0.05   \n",
              "\n",
              "                       Interpretation  \n",
              "0  Different distribution (reject H0)  "
            ],
            "text/html": [
              "\n",
              "  <div id=\"df-0fe6e00b-2675-4c62-b50a-e76b5fdf8321\">\n",
              "    <div class=\"colab-df-container\">\n",
              "      <div>\n",
              "<style scoped>\n",
              "    .dataframe tbody tr th:only-of-type {\n",
              "        vertical-align: middle;\n",
              "    }\n",
              "\n",
              "    .dataframe tbody tr th {\n",
              "        vertical-align: top;\n",
              "    }\n",
              "\n",
              "    .dataframe thead th {\n",
              "        text-align: right;\n",
              "    }\n",
              "</style>\n",
              "<table border=\"1\" class=\"dataframe\">\n",
              "  <thead>\n",
              "    <tr style=\"text-align: right;\">\n",
              "      <th></th>\n",
              "      <th>Descriptor</th>\n",
              "      <th>Statistics</th>\n",
              "      <th>p</th>\n",
              "      <th>alpha</th>\n",
              "      <th>Interpretation</th>\n",
              "    </tr>\n",
              "  </thead>\n",
              "  <tbody>\n",
              "    <tr>\n",
              "      <th>0</th>\n",
              "      <td>pchembl_value</td>\n",
              "      <td>39537.0</td>\n",
              "      <td>1.287082e-66</td>\n",
              "      <td>0.05</td>\n",
              "      <td>Different distribution (reject H0)</td>\n",
              "    </tr>\n",
              "  </tbody>\n",
              "</table>\n",
              "</div>\n",
              "      <button class=\"colab-df-convert\" onclick=\"convertToInteractive('df-0fe6e00b-2675-4c62-b50a-e76b5fdf8321')\"\n",
              "              title=\"Convert this dataframe to an interactive table.\"\n",
              "              style=\"display:none;\">\n",
              "        \n",
              "  <svg xmlns=\"http://www.w3.org/2000/svg\" height=\"24px\"viewBox=\"0 0 24 24\"\n",
              "       width=\"24px\">\n",
              "    <path d=\"M0 0h24v24H0V0z\" fill=\"none\"/>\n",
              "    <path d=\"M18.56 5.44l.94 2.06.94-2.06 2.06-.94-2.06-.94-.94-2.06-.94 2.06-2.06.94zm-11 1L8.5 8.5l.94-2.06 2.06-.94-2.06-.94L8.5 2.5l-.94 2.06-2.06.94zm10 10l.94 2.06.94-2.06 2.06-.94-2.06-.94-.94-2.06-.94 2.06-2.06.94z\"/><path d=\"M17.41 7.96l-1.37-1.37c-.4-.4-.92-.59-1.43-.59-.52 0-1.04.2-1.43.59L10.3 9.45l-7.72 7.72c-.78.78-.78 2.05 0 2.83L4 21.41c.39.39.9.59 1.41.59.51 0 1.02-.2 1.41-.59l7.78-7.78 2.81-2.81c.8-.78.8-2.07 0-2.86zM5.41 20L4 18.59l7.72-7.72 1.47 1.35L5.41 20z\"/>\n",
              "  </svg>\n",
              "      </button>\n",
              "      \n",
              "  <style>\n",
              "    .colab-df-container {\n",
              "      display:flex;\n",
              "      flex-wrap:wrap;\n",
              "      gap: 12px;\n",
              "    }\n",
              "\n",
              "    .colab-df-convert {\n",
              "      background-color: #E8F0FE;\n",
              "      border: none;\n",
              "      border-radius: 50%;\n",
              "      cursor: pointer;\n",
              "      display: none;\n",
              "      fill: #1967D2;\n",
              "      height: 32px;\n",
              "      padding: 0 0 0 0;\n",
              "      width: 32px;\n",
              "    }\n",
              "\n",
              "    .colab-df-convert:hover {\n",
              "      background-color: #E2EBFA;\n",
              "      box-shadow: 0px 1px 2px rgba(60, 64, 67, 0.3), 0px 1px 3px 1px rgba(60, 64, 67, 0.15);\n",
              "      fill: #174EA6;\n",
              "    }\n",
              "\n",
              "    [theme=dark] .colab-df-convert {\n",
              "      background-color: #3B4455;\n",
              "      fill: #D2E3FC;\n",
              "    }\n",
              "\n",
              "    [theme=dark] .colab-df-convert:hover {\n",
              "      background-color: #434B5C;\n",
              "      box-shadow: 0px 1px 3px 1px rgba(0, 0, 0, 0.15);\n",
              "      filter: drop-shadow(0px 1px 2px rgba(0, 0, 0, 0.3));\n",
              "      fill: #FFFFFF;\n",
              "    }\n",
              "  </style>\n",
              "\n",
              "      <script>\n",
              "        const buttonEl =\n",
              "          document.querySelector('#df-0fe6e00b-2675-4c62-b50a-e76b5fdf8321 button.colab-df-convert');\n",
              "        buttonEl.style.display =\n",
              "          google.colab.kernel.accessAllowed ? 'block' : 'none';\n",
              "\n",
              "        async function convertToInteractive(key) {\n",
              "          const element = document.querySelector('#df-0fe6e00b-2675-4c62-b50a-e76b5fdf8321');\n",
              "          const dataTable =\n",
              "            await google.colab.kernel.invokeFunction('convertToInteractive',\n",
              "                                                     [key], {});\n",
              "          if (!dataTable) return;\n",
              "\n",
              "          const docLinkHtml = 'Like what you see? Visit the ' +\n",
              "            '<a target=\"_blank\" href=https://colab.research.google.com/notebooks/data_table.ipynb>data table notebook</a>'\n",
              "            + ' to learn more about interactive tables.';\n",
              "          element.innerHTML = '';\n",
              "          dataTable['output_type'] = 'display_data';\n",
              "          await google.colab.output.renderOutput(dataTable, element);\n",
              "          const docLink = document.createElement('div');\n",
              "          docLink.innerHTML = docLinkHtml;\n",
              "          element.appendChild(docLink);\n",
              "        }\n",
              "      </script>\n",
              "    </div>\n",
              "  </div>\n",
              "  "
            ]
          },
          "metadata": {},
          "execution_count": 82
        }
      ]
    },
    {
      "cell_type": "code",
      "source": [
        "# Get rid of molecules without canonical simles\n",
        "df6 = df5[df5.canonical_smiles.notnull()]"
      ],
      "metadata": {
        "id": "hyLJ8fmZWwDP"
      },
      "execution_count": null,
      "outputs": []
    },
    {
      "cell_type": "code",
      "source": [
        "df6"
      ],
      "metadata": {
        "colab": {
          "base_uri": "https://localhost:8080/",
          "height": 423
        },
        "id": "LcaPPxBzW2sG",
        "outputId": "10a09218-d97d-4816-8df4-d210a3e4ad96"
      },
      "execution_count": null,
      "outputs": [
        {
          "output_type": "execute_result",
          "data": {
            "text/plain": [
              "    molecule_chembl_id                                   canonical_smiles  \\\n",
              "0         CHEMBL199723  CN1CCN(CCc2ccc(NC(=O)c3cc(-c4ccc5c(c4)OCO5)cnc...   \n",
              "1         CHEMBL381738  CN1CCN(CCCc2ccc(NC(=O)c3cc(-c4ccc5c(c4)OCO5)cn...   \n",
              "2         CHEMBL370800  CN1CCN(Cc2ccc(NC(=O)c3cc(-c4ccc5c(c4)OCO5)cnc3...   \n",
              "3         CHEMBL436509  CN1CCN(c2ccc(NC(=O)c3cc(-c4ccc5c(c4)OCO5)cnc3O...   \n",
              "4            CHEMBL165                     Oc1ccc(/C=C/c2cc(O)cc(O)c2)cc1   \n",
              "..                 ...                                                ...   \n",
              "393      CHEMBL4794093  Cc1cn(-c2cc(NC(=O)c3cccc(C#Cc4cccc5[nH]nc(N)c4...   \n",
              "394      CHEMBL4780226  CN1CCN(Cc2cc(NC(=O)c3cccc(C#Cc4cccc5[nH]nc(N)c...   \n",
              "395      CHEMBL4794284  Nc1n[nH]c2cccc(C#Cc3cccc(C(=O)Nc4cc(CN5CCOCC5)...   \n",
              "396      CHEMBL4786855  Nc1n[nH]c2cccc(C#Cc3cccc(C(=O)Nc4ccc(Cl)c(C(F)...   \n",
              "397      CHEMBL4776468  Nc1n[nH]c2cccc(C#Cc3cccc(C(=O)Nc4ccc(CN5CCOCC5...   \n",
              "\n",
              "    standard_type standard_relation  pchembl_value  standard_value  \\\n",
              "0            IC50                 =           5.02          9500.0   \n",
              "1            IC50                 =           4.84         14600.0   \n",
              "2            IC50                 =           4.89         12900.0   \n",
              "3            IC50                 =           5.42          3800.0   \n",
              "4            IC50                 =           4.55         28000.0   \n",
              "..            ...               ...            ...             ...   \n",
              "393          IC50                 =           7.59            25.8   \n",
              "394          IC50                 =           7.25            56.7   \n",
              "395          IC50                 =           6.24           571.0   \n",
              "396          IC50                 =           6.59           255.0   \n",
              "397          IC50                 =           6.71           194.5   \n",
              "\n",
              "    standard_units  pchembl_bin  \n",
              "0               nM            0  \n",
              "1               nM            0  \n",
              "2               nM            0  \n",
              "3               nM            0  \n",
              "4               nM            0  \n",
              "..             ...          ...  \n",
              "393             nM            1  \n",
              "394             nM            1  \n",
              "395             nM            0  \n",
              "396             nM            1  \n",
              "397             nM            1  \n",
              "\n",
              "[398 rows x 8 columns]"
            ],
            "text/html": [
              "\n",
              "  <div id=\"df-68a57ed1-4934-4285-a136-a1f3a23a7d28\">\n",
              "    <div class=\"colab-df-container\">\n",
              "      <div>\n",
              "<style scoped>\n",
              "    .dataframe tbody tr th:only-of-type {\n",
              "        vertical-align: middle;\n",
              "    }\n",
              "\n",
              "    .dataframe tbody tr th {\n",
              "        vertical-align: top;\n",
              "    }\n",
              "\n",
              "    .dataframe thead th {\n",
              "        text-align: right;\n",
              "    }\n",
              "</style>\n",
              "<table border=\"1\" class=\"dataframe\">\n",
              "  <thead>\n",
              "    <tr style=\"text-align: right;\">\n",
              "      <th></th>\n",
              "      <th>molecule_chembl_id</th>\n",
              "      <th>canonical_smiles</th>\n",
              "      <th>standard_type</th>\n",
              "      <th>standard_relation</th>\n",
              "      <th>pchembl_value</th>\n",
              "      <th>standard_value</th>\n",
              "      <th>standard_units</th>\n",
              "      <th>pchembl_bin</th>\n",
              "    </tr>\n",
              "  </thead>\n",
              "  <tbody>\n",
              "    <tr>\n",
              "      <th>0</th>\n",
              "      <td>CHEMBL199723</td>\n",
              "      <td>CN1CCN(CCc2ccc(NC(=O)c3cc(-c4ccc5c(c4)OCO5)cnc...</td>\n",
              "      <td>IC50</td>\n",
              "      <td>=</td>\n",
              "      <td>5.02</td>\n",
              "      <td>9500.0</td>\n",
              "      <td>nM</td>\n",
              "      <td>0</td>\n",
              "    </tr>\n",
              "    <tr>\n",
              "      <th>1</th>\n",
              "      <td>CHEMBL381738</td>\n",
              "      <td>CN1CCN(CCCc2ccc(NC(=O)c3cc(-c4ccc5c(c4)OCO5)cn...</td>\n",
              "      <td>IC50</td>\n",
              "      <td>=</td>\n",
              "      <td>4.84</td>\n",
              "      <td>14600.0</td>\n",
              "      <td>nM</td>\n",
              "      <td>0</td>\n",
              "    </tr>\n",
              "    <tr>\n",
              "      <th>2</th>\n",
              "      <td>CHEMBL370800</td>\n",
              "      <td>CN1CCN(Cc2ccc(NC(=O)c3cc(-c4ccc5c(c4)OCO5)cnc3...</td>\n",
              "      <td>IC50</td>\n",
              "      <td>=</td>\n",
              "      <td>4.89</td>\n",
              "      <td>12900.0</td>\n",
              "      <td>nM</td>\n",
              "      <td>0</td>\n",
              "    </tr>\n",
              "    <tr>\n",
              "      <th>3</th>\n",
              "      <td>CHEMBL436509</td>\n",
              "      <td>CN1CCN(c2ccc(NC(=O)c3cc(-c4ccc5c(c4)OCO5)cnc3O...</td>\n",
              "      <td>IC50</td>\n",
              "      <td>=</td>\n",
              "      <td>5.42</td>\n",
              "      <td>3800.0</td>\n",
              "      <td>nM</td>\n",
              "      <td>0</td>\n",
              "    </tr>\n",
              "    <tr>\n",
              "      <th>4</th>\n",
              "      <td>CHEMBL165</td>\n",
              "      <td>Oc1ccc(/C=C/c2cc(O)cc(O)c2)cc1</td>\n",
              "      <td>IC50</td>\n",
              "      <td>=</td>\n",
              "      <td>4.55</td>\n",
              "      <td>28000.0</td>\n",
              "      <td>nM</td>\n",
              "      <td>0</td>\n",
              "    </tr>\n",
              "    <tr>\n",
              "      <th>...</th>\n",
              "      <td>...</td>\n",
              "      <td>...</td>\n",
              "      <td>...</td>\n",
              "      <td>...</td>\n",
              "      <td>...</td>\n",
              "      <td>...</td>\n",
              "      <td>...</td>\n",
              "      <td>...</td>\n",
              "    </tr>\n",
              "    <tr>\n",
              "      <th>393</th>\n",
              "      <td>CHEMBL4794093</td>\n",
              "      <td>Cc1cn(-c2cc(NC(=O)c3cccc(C#Cc4cccc5[nH]nc(N)c4...</td>\n",
              "      <td>IC50</td>\n",
              "      <td>=</td>\n",
              "      <td>7.59</td>\n",
              "      <td>25.8</td>\n",
              "      <td>nM</td>\n",
              "      <td>1</td>\n",
              "    </tr>\n",
              "    <tr>\n",
              "      <th>394</th>\n",
              "      <td>CHEMBL4780226</td>\n",
              "      <td>CN1CCN(Cc2cc(NC(=O)c3cccc(C#Cc4cccc5[nH]nc(N)c...</td>\n",
              "      <td>IC50</td>\n",
              "      <td>=</td>\n",
              "      <td>7.25</td>\n",
              "      <td>56.7</td>\n",
              "      <td>nM</td>\n",
              "      <td>1</td>\n",
              "    </tr>\n",
              "    <tr>\n",
              "      <th>395</th>\n",
              "      <td>CHEMBL4794284</td>\n",
              "      <td>Nc1n[nH]c2cccc(C#Cc3cccc(C(=O)Nc4cc(CN5CCOCC5)...</td>\n",
              "      <td>IC50</td>\n",
              "      <td>=</td>\n",
              "      <td>6.24</td>\n",
              "      <td>571.0</td>\n",
              "      <td>nM</td>\n",
              "      <td>0</td>\n",
              "    </tr>\n",
              "    <tr>\n",
              "      <th>396</th>\n",
              "      <td>CHEMBL4786855</td>\n",
              "      <td>Nc1n[nH]c2cccc(C#Cc3cccc(C(=O)Nc4ccc(Cl)c(C(F)...</td>\n",
              "      <td>IC50</td>\n",
              "      <td>=</td>\n",
              "      <td>6.59</td>\n",
              "      <td>255.0</td>\n",
              "      <td>nM</td>\n",
              "      <td>1</td>\n",
              "    </tr>\n",
              "    <tr>\n",
              "      <th>397</th>\n",
              "      <td>CHEMBL4776468</td>\n",
              "      <td>Nc1n[nH]c2cccc(C#Cc3cccc(C(=O)Nc4ccc(CN5CCOCC5...</td>\n",
              "      <td>IC50</td>\n",
              "      <td>=</td>\n",
              "      <td>6.71</td>\n",
              "      <td>194.5</td>\n",
              "      <td>nM</td>\n",
              "      <td>1</td>\n",
              "    </tr>\n",
              "  </tbody>\n",
              "</table>\n",
              "<p>398 rows × 8 columns</p>\n",
              "</div>\n",
              "      <button class=\"colab-df-convert\" onclick=\"convertToInteractive('df-68a57ed1-4934-4285-a136-a1f3a23a7d28')\"\n",
              "              title=\"Convert this dataframe to an interactive table.\"\n",
              "              style=\"display:none;\">\n",
              "        \n",
              "  <svg xmlns=\"http://www.w3.org/2000/svg\" height=\"24px\"viewBox=\"0 0 24 24\"\n",
              "       width=\"24px\">\n",
              "    <path d=\"M0 0h24v24H0V0z\" fill=\"none\"/>\n",
              "    <path d=\"M18.56 5.44l.94 2.06.94-2.06 2.06-.94-2.06-.94-.94-2.06-.94 2.06-2.06.94zm-11 1L8.5 8.5l.94-2.06 2.06-.94-2.06-.94L8.5 2.5l-.94 2.06-2.06.94zm10 10l.94 2.06.94-2.06 2.06-.94-2.06-.94-.94-2.06-.94 2.06-2.06.94z\"/><path d=\"M17.41 7.96l-1.37-1.37c-.4-.4-.92-.59-1.43-.59-.52 0-1.04.2-1.43.59L10.3 9.45l-7.72 7.72c-.78.78-.78 2.05 0 2.83L4 21.41c.39.39.9.59 1.41.59.51 0 1.02-.2 1.41-.59l7.78-7.78 2.81-2.81c.8-.78.8-2.07 0-2.86zM5.41 20L4 18.59l7.72-7.72 1.47 1.35L5.41 20z\"/>\n",
              "  </svg>\n",
              "      </button>\n",
              "      \n",
              "  <style>\n",
              "    .colab-df-container {\n",
              "      display:flex;\n",
              "      flex-wrap:wrap;\n",
              "      gap: 12px;\n",
              "    }\n",
              "\n",
              "    .colab-df-convert {\n",
              "      background-color: #E8F0FE;\n",
              "      border: none;\n",
              "      border-radius: 50%;\n",
              "      cursor: pointer;\n",
              "      display: none;\n",
              "      fill: #1967D2;\n",
              "      height: 32px;\n",
              "      padding: 0 0 0 0;\n",
              "      width: 32px;\n",
              "    }\n",
              "\n",
              "    .colab-df-convert:hover {\n",
              "      background-color: #E2EBFA;\n",
              "      box-shadow: 0px 1px 2px rgba(60, 64, 67, 0.3), 0px 1px 3px 1px rgba(60, 64, 67, 0.15);\n",
              "      fill: #174EA6;\n",
              "    }\n",
              "\n",
              "    [theme=dark] .colab-df-convert {\n",
              "      background-color: #3B4455;\n",
              "      fill: #D2E3FC;\n",
              "    }\n",
              "\n",
              "    [theme=dark] .colab-df-convert:hover {\n",
              "      background-color: #434B5C;\n",
              "      box-shadow: 0px 1px 3px 1px rgba(0, 0, 0, 0.15);\n",
              "      filter: drop-shadow(0px 1px 2px rgba(0, 0, 0, 0.3));\n",
              "      fill: #FFFFFF;\n",
              "    }\n",
              "  </style>\n",
              "\n",
              "      <script>\n",
              "        const buttonEl =\n",
              "          document.querySelector('#df-68a57ed1-4934-4285-a136-a1f3a23a7d28 button.colab-df-convert');\n",
              "        buttonEl.style.display =\n",
              "          google.colab.kernel.accessAllowed ? 'block' : 'none';\n",
              "\n",
              "        async function convertToInteractive(key) {\n",
              "          const element = document.querySelector('#df-68a57ed1-4934-4285-a136-a1f3a23a7d28');\n",
              "          const dataTable =\n",
              "            await google.colab.kernel.invokeFunction('convertToInteractive',\n",
              "                                                     [key], {});\n",
              "          if (!dataTable) return;\n",
              "\n",
              "          const docLinkHtml = 'Like what you see? Visit the ' +\n",
              "            '<a target=\"_blank\" href=https://colab.research.google.com/notebooks/data_table.ipynb>data table notebook</a>'\n",
              "            + ' to learn more about interactive tables.';\n",
              "          element.innerHTML = '';\n",
              "          dataTable['output_type'] = 'display_data';\n",
              "          await google.colab.output.renderOutput(dataTable, element);\n",
              "          const docLink = document.createElement('div');\n",
              "          docLink.innerHTML = docLinkHtml;\n",
              "          element.appendChild(docLink);\n",
              "        }\n",
              "      </script>\n",
              "    </div>\n",
              "  </div>\n",
              "  "
            ]
          },
          "metadata": {},
          "execution_count": 84
        }
      ]
    },
    {
      "cell_type": "code",
      "source": [
        "df6.info()"
      ],
      "metadata": {
        "colab": {
          "base_uri": "https://localhost:8080/"
        },
        "id": "7tQynMCVXF_M",
        "outputId": "97fa87b3-5938-4727-cce6-74bdf0adc61d"
      },
      "execution_count": null,
      "outputs": [
        {
          "output_type": "stream",
          "name": "stdout",
          "text": [
            "<class 'pandas.core.frame.DataFrame'>\n",
            "Int64Index: 398 entries, 0 to 397\n",
            "Data columns (total 8 columns):\n",
            " #   Column              Non-Null Count  Dtype  \n",
            "---  ------              --------------  -----  \n",
            " 0   molecule_chembl_id  398 non-null    object \n",
            " 1   canonical_smiles    398 non-null    object \n",
            " 2   standard_type       398 non-null    object \n",
            " 3   standard_relation   398 non-null    object \n",
            " 4   pchembl_value       398 non-null    float64\n",
            " 5   standard_value      398 non-null    float64\n",
            " 6   standard_units      398 non-null    object \n",
            " 7   pchembl_bin         398 non-null    int64  \n",
            "dtypes: float64(2), int64(1), object(5)\n",
            "memory usage: 28.0+ KB\n"
          ]
        }
      ]
    },
    {
      "cell_type": "code",
      "source": [
        "df6.to_csv('bcr_abl_pchembl_bin.csv', index=False)"
      ],
      "metadata": {
        "id": "INMPlqnbXOvF"
      },
      "execution_count": null,
      "outputs": []
    },
    {
      "cell_type": "code",
      "source": [
        "cp bcr_abl_pchembl_bin.csv '/content/drive/MyDrive/inhibitor_prediction/bcr_abl/chembl_data_retrieve'"
      ],
      "metadata": {
        "id": "475L7a9aXUPd"
      },
      "execution_count": null,
      "outputs": []
    },
    {
      "cell_type": "code",
      "source": [
        "y_reg_pcehmbl_value = df6['pchembl_value']"
      ],
      "metadata": {
        "id": "fw0Fm4aKNwdJ"
      },
      "execution_count": null,
      "outputs": []
    },
    {
      "cell_type": "code",
      "source": [
        "y_reg_pcehmbl_value"
      ],
      "metadata": {
        "colab": {
          "base_uri": "https://localhost:8080/"
        },
        "id": "MlqIgXVEN5cG",
        "outputId": "2d7e5425-5502-4b6a-97ce-06fb5ad11b31"
      },
      "execution_count": null,
      "outputs": [
        {
          "output_type": "execute_result",
          "data": {
            "text/plain": [
              "0      5.02\n",
              "1      4.84\n",
              "2      4.89\n",
              "3      5.42\n",
              "4      4.55\n",
              "       ... \n",
              "393    7.59\n",
              "394    7.25\n",
              "395    6.24\n",
              "396    6.59\n",
              "397    6.71\n",
              "Name: pchembl_value, Length: 398, dtype: float64"
            ]
          },
          "metadata": {},
          "execution_count": 90
        }
      ]
    },
    {
      "cell_type": "code",
      "source": [
        "y_reg_pcehmbl_value.to_csv('y_reg_pchembl.csv', index= False)"
      ],
      "metadata": {
        "id": "Dpsp8a1sOAzm"
      },
      "execution_count": null,
      "outputs": []
    },
    {
      "cell_type": "code",
      "source": [
        "cp y_reg_pchembl.csv '/content/drive/MyDrive/inhibitor_prediction/bcr_abl/chembl_data_retrieve'"
      ],
      "metadata": {
        "id": "G-W4z0T7ObGn"
      },
      "execution_count": null,
      "outputs": []
    }
  ]
}